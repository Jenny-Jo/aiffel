{
 "cells": [
  {
   "cell_type": "markdown",
   "metadata": {},
   "source": [
    "# 1. data"
   ]
  },
  {
   "cell_type": "markdown",
   "metadata": {},
   "source": [
    "$ wget https://raw.githubusercontent.com/e9t/nsmc/master/ratings_train.txt\n",
    "$ wget https://raw.githubusercontent.com/e9t/nsmc/master/ratings_test.txt\n",
    "$ mv ratings_*.txt ~/aiffel/sentiment_classification"
   ]
  },
  {
   "cell_type": "code",
   "execution_count": 5,
   "metadata": {},
   "outputs": [
    {
     "name": "stdout",
     "output_type": "stream",
     "text": [
      "run\n"
     ]
    }
   ],
   "source": [
    "print('run')"
   ]
  },
  {
   "cell_type": "code",
   "execution_count": 6,
   "metadata": {},
   "outputs": [
    {
     "data": {
      "text/html": [
       "<div>\n",
       "<style scoped>\n",
       "    .dataframe tbody tr th:only-of-type {\n",
       "        vertical-align: middle;\n",
       "    }\n",
       "\n",
       "    .dataframe tbody tr th {\n",
       "        vertical-align: top;\n",
       "    }\n",
       "\n",
       "    .dataframe thead th {\n",
       "        text-align: right;\n",
       "    }\n",
       "</style>\n",
       "<table border=\"1\" class=\"dataframe\">\n",
       "  <thead>\n",
       "    <tr style=\"text-align: right;\">\n",
       "      <th></th>\n",
       "      <th>id</th>\n",
       "      <th>document</th>\n",
       "      <th>label</th>\n",
       "    </tr>\n",
       "  </thead>\n",
       "  <tbody>\n",
       "    <tr>\n",
       "      <th>0</th>\n",
       "      <td>9976970</td>\n",
       "      <td>아 더빙.. 진짜 짜증나네요 목소리</td>\n",
       "      <td>0</td>\n",
       "    </tr>\n",
       "    <tr>\n",
       "      <th>1</th>\n",
       "      <td>3819312</td>\n",
       "      <td>흠...포스터보고 초딩영화줄....오버연기조차 가볍지 않구나</td>\n",
       "      <td>1</td>\n",
       "    </tr>\n",
       "    <tr>\n",
       "      <th>2</th>\n",
       "      <td>10265843</td>\n",
       "      <td>너무재밓었다그래서보는것을추천한다</td>\n",
       "      <td>0</td>\n",
       "    </tr>\n",
       "    <tr>\n",
       "      <th>3</th>\n",
       "      <td>9045019</td>\n",
       "      <td>교도소 이야기구먼 ..솔직히 재미는 없다..평점 조정</td>\n",
       "      <td>0</td>\n",
       "    </tr>\n",
       "    <tr>\n",
       "      <th>4</th>\n",
       "      <td>6483659</td>\n",
       "      <td>사이몬페그의 익살스런 연기가 돋보였던 영화!스파이더맨에서 늙어보이기만 했던 커스틴 ...</td>\n",
       "      <td>1</td>\n",
       "    </tr>\n",
       "  </tbody>\n",
       "</table>\n",
       "</div>"
      ],
      "text/plain": [
       "         id                                           document  label\n",
       "0   9976970                                아 더빙.. 진짜 짜증나네요 목소리      0\n",
       "1   3819312                  흠...포스터보고 초딩영화줄....오버연기조차 가볍지 않구나      1\n",
       "2  10265843                                  너무재밓었다그래서보는것을추천한다      0\n",
       "3   9045019                      교도소 이야기구먼 ..솔직히 재미는 없다..평점 조정      0\n",
       "4   6483659  사이몬페그의 익살스런 연기가 돋보였던 영화!스파이더맨에서 늙어보이기만 했던 커스틴 ...      1"
      ]
     },
     "execution_count": 6,
     "metadata": {},
     "output_type": "execute_result"
    }
   ],
   "source": [
    "import pandas as pd\n",
    "import urllib.request\n",
    "%matplotlib inline\n",
    "import matplotlib.pyplot as plt\n",
    "import re\n",
    "from konlpy.tag import Okt\n",
    "from tensorflow import keras\n",
    "from tensorflow.keras.preprocessing.text import Tokenizer\n",
    "import numpy as np\n",
    "from tensorflow.keras.preprocessing.sequence import pad_sequences\n",
    "from collections import Counter\n",
    "\n",
    "# 데이터를 읽어봅시다. \n",
    "train_data = pd.read_table('~/aiffel/sentiment_classification/ratings_train.txt')\n",
    "test_data = pd.read_table('~/aiffel/sentiment_classification/ratings_test.txt')\n",
    "\n",
    "train_data.head()\n"
   ]
  },
  {
   "cell_type": "markdown",
   "metadata": {},
   "source": [
    "# 2. data_loader"
   ]
  },
  {
   "cell_type": "markdown",
   "metadata": {},
   "source": [
    "실습때 다루었던 IMDB 데이터셋은 텍스트를 가공하여 imdb.data_loader() 메소드를 호출하면 숫자 인덱스로 변환된 텍스트와 word_to_index 딕셔너리까지 친절하게 제공합니다. 그러나 이번에 다루게 될 nsmc 데이터셋은 전혀 가공되지 않은 텍스트 파일로 이루어져 있습니다. 이것을 읽어서 imdb.data_loader()와 동일하게 동작하는 자신만의 data_loader를 만들어 보는 것으로 시작합니다. data_loader 안에서는 다음을 수행해야 합니다.\n",
    "\n",
    "* 데이터의 중복 제거\n",
    "* NaN 결측치 제거\n",
    "* 한국어 토크나이저로 토큰화\n",
    "* 불용어(Stopwords) 제거\n",
    "* 사전word_to_index 구성\n",
    "* 텍스트 스트링을 사전 인덱스 스트링으로 변환\n",
    "* X_train, y_train, X_test, y_test, word_to_index 리턴"
   ]
  },
  {
   "cell_type": "code",
   "execution_count": 7,
   "metadata": {
    "scrolled": true
   },
   "outputs": [],
   "source": [
    "from konlpy.tag import Mecab\n",
    "tokenizer = Mecab()\n",
    "stopwords = ['의','가','이','은','들','는','좀','잘','걍','과','도','를','으로','자','에','와','한','하다']\n",
    "\n",
    "def load_data(train_data, test_data, num_words = 10000):\n",
    "    train_data.drop_duplicates(subset=['document'], inplace=True)\n",
    "    train_data = train_data.dropna(how='any')\n",
    "    test_data.drop_duplicates(subset=['document'], inplace = True)\n",
    "    test_data = test_data.dropna(how='any')\n",
    "    \n",
    "    X_train = []\n",
    "    for sentence in train_data['document']:\n",
    "        temp_X = tokenizer.morphs(sentence) # 토큰화\n",
    "        temp_X = [word for word in temp_X if not word in stopwords]\n",
    "        X_train.append(temp_X)\n",
    "    \n",
    "    X_test = []\n",
    "    for sentence in test_data['document']:\n",
    "        temp_X = tokenizer.morphs(sentence) # 토큰화\n",
    "        temp_X = [word for word in temp_X if not word in stopwords]\n",
    "        X_test.append(temp_X)\n",
    "    \n",
    "    words = np.concatenate(X_train).tolist()\n",
    "    counter = Counter(words)\n",
    "    counter = counter.most_common(10000-4)\n",
    "    vocab = ['<PAD>', '<BOS>', '<UNK>', '<UNUSED>'] + [key for key, _ in counter]\n",
    "    word_to_index = {word : index for index, word in enumerate(vocab)}\n",
    "    \n",
    "    def wordlist_to_indexlist(wordlist):\n",
    "        return [word_to_index[word] if word in word_to_index else word_to_index['<UNK>'] for word in wordlist]\n",
    "    \n",
    "    X_train = list(map(wordlist_to_indexlist, X_train))\n",
    "    X_test = list(map(wordlist_to_indexlist, X_test))\n",
    "    \n",
    "    return X_train, np.array(list(train_data['label'])), X_test, np.array(list(test_data['label'])), word_to_index\n",
    "    \n",
    "X_train, y_train, X_test, y_test, word_to_index = load_data(train_data, test_data)\n"
   ]
  },
  {
   "cell_type": "code",
   "execution_count": 8,
   "metadata": {},
   "outputs": [],
   "source": [
    "index_to_word = {index:word for word, index in word_to_index.items()}"
   ]
  },
  {
   "cell_type": "code",
   "execution_count": 9,
   "metadata": {},
   "outputs": [],
   "source": [
    "# 문장 1개를 활용할 딕셔너리와 함께 주면, 단어 인덱스 리스트 벡터로 변환해 주는 함수입니다. \n",
    "# 단, 모든 문장은 <BOS>로 시작하는 것으로 합니다. \n",
    "def get_encoded_sentence(sentence, word_to_index):\n",
    "    return [word_to_index['<BOS>']]+[word_to_index[word] if word in word_to_index else word_to_index['<UNK>'] for word in sentence.split()]\n",
    "\n",
    "# 여러 개의 문장 리스트를 한꺼번에 단어 인덱스 리스트 벡터로 encode해 주는 함수입니다. \n",
    "def get_encoded_sentences(sentences, word_to_index):\n",
    "    return [get_encoded_sentence(sentence, word_to_index) for sentence in sentences]\n",
    "\n",
    "# 숫자 벡터로 encode된 문장을 원래대로 decode하는 함수입니다. \n",
    "def get_decoded_sentence(encoded_sentence, index_to_word):\n",
    "    return ' '.join(index_to_word[index] if index in index_to_word else '<UNK>' for index in encoded_sentence[1:])  #[1:]를 통해 <BOS>를 제외\n",
    "\n",
    "# 여러개의 숫자 벡터로 encode된 문장을 한꺼번에 원래대로 decode하는 함수입니다. \n",
    "def get_decoded_sentences(encoded_sentences, index_to_word):\n",
    "    return [get_decoded_sentence(encoded_sentence, index_to_word) for encoded_sentence in encoded_sentences]"
   ]
  },
  {
   "cell_type": "markdown",
   "metadata": {},
   "source": [
    "# 3. 모델 구성을 위한 데이터 분석 및 가공 "
   ]
  },
  {
   "cell_type": "markdown",
   "metadata": {},
   "source": [
    "* 데이터셋 내 문장 길이 분포\n",
    "* 적절한 최대 문장 길이 지정\n",
    "* keras.preprocessing.sequence.pad_sequences 을 활용한 패딩 추가"
   ]
  },
  {
   "cell_type": "code",
   "execution_count": 10,
   "metadata": {},
   "outputs": [
    {
     "name": "stdout",
     "output_type": "stream",
     "text": [
      "리뷰의 최대 길이 : 116\n",
      "리뷰의 평균 길이 : 15.981687211831826\n"
     ]
    },
    {
     "data": {
      "image/png": "[encoded data removed]",
      "text/plain": [
       "<Figure size 432x288 with 1 Axes>"
      ]
     },
     "metadata": {
      "needs_background": "light"
     },
     "output_type": "display_data"
    }
   ],
   "source": [
    "print('리뷰의 최대 길이 :',max(len(l) for l in X_train))\n",
    "print('리뷰의 평균 길이 :',sum(map(len, X_train))/len(X_train))\n",
    "plt.hist([len(s) for s in X_train], bins=50)\n",
    "plt.xlabel('length of samples')\n",
    "plt.ylabel('number of samples')\n",
    "plt.show()"
   ]
  },
  {
   "cell_type": "code",
   "execution_count": 11,
   "metadata": {},
   "outputs": [],
   "source": [
    "# 전체 샘플 중 길이가 max_len 이하인 샘플의 비율이 몇 %인지 확인하는 함수\n",
    "def below_threshold_len(max_len, nested_list):\n",
    "  cnt = 0\n",
    "  for s in nested_list:\n",
    "    if(len(s) <= max_len):\n",
    "        cnt = cnt + 1\n",
    "  print('전체 샘플 중 길이가 %s 이하인 샘플의 비율: %s'%(max_len, (cnt / len(nested_list))*100))"
   ]
  },
  {
   "cell_type": "code",
   "execution_count": 12,
   "metadata": {},
   "outputs": [
    {
     "name": "stdout",
     "output_type": "stream",
     "text": [
      "전체 샘플 중 길이가 40 이하인 샘플의 비율: 93.0490758096072\n"
     ]
    }
   ],
   "source": [
    "max_len = 40\n",
    "below_threshold_len(max_len, X_train)"
   ]
  },
  {
   "cell_type": "code",
   "execution_count": 13,
   "metadata": {},
   "outputs": [],
   "source": [
    "X_train = pad_sequences(X_train, maxlen = max_len)\n",
    "X_test = pad_sequences(X_test, maxlen = max_len)"
   ]
  },
  {
   "cell_type": "markdown",
   "metadata": {},
   "source": [
    "# 4. 모델 구성 및 validation set 구성"
   ]
  },
  {
   "cell_type": "markdown",
   "metadata": {},
   "source": [
    "\n",
    "모델은 3가지 이상 다양하게 구성하여 실험해 보세요.\n"
   ]
  },
  {
   "cell_type": "markdown",
   "metadata": {},
   "source": [
    "# LSTM model"
   ]
  },
  {
   "cell_type": "code",
   "execution_count": 14,
   "metadata": {},
   "outputs": [],
   "source": [
    "from tensorflow.keras.layers import Embedding, Dense, LSTM\n",
    "from tensorflow.keras.models import Sequential\n",
    "from tensorflow.keras.models import load_model\n",
    "from tensorflow.keras.callbacks import EarlyStopping, ModelCheckpoint"
   ]
  },
  {
   "cell_type": "code",
   "execution_count": 15,
   "metadata": {},
   "outputs": [],
   "source": [
    "vocab_size = 10000\n",
    "model = Sequential()\n",
    "model.add(Embedding(vocab_size, 100))\n",
    "model.add(LSTM(128))\n",
    "model.add(Dense(1, activation='sigmoid'))"
   ]
  },
  {
   "cell_type": "code",
   "execution_count": 16,
   "metadata": {},
   "outputs": [],
   "source": [
    "es = EarlyStopping(monitor='val_loss', mode='min', verbose=1, patience=4)\n",
    "mc = ModelCheckpoint('best_model.h5', monitor='val_acc', mode='max', verbose=1, save_best_only=True)"
   ]
  },
  {
   "cell_type": "markdown",
   "metadata": {},
   "source": [
    "# 5. 모델 훈련 개시"
   ]
  },
  {
   "cell_type": "code",
   "execution_count": 17,
   "metadata": {},
   "outputs": [
    {
     "name": "stdout",
     "output_type": "stream",
     "text": [
      "Epoch 1/15\n",
      "1947/1950 [============================>.] - ETA: 0s - loss: 0.3832 - acc: 0.8289\n",
      "Epoch 00001: val_acc improved from -inf to 0.84147, saving model to best_model.h5\n",
      "1950/1950 [==============================] - 16s 8ms/step - loss: 0.3831 - acc: 0.8289 - val_loss: 0.3720 - val_acc: 0.8415\n",
      "Epoch 2/15\n",
      "1948/1950 [============================>.] - ETA: 0s - loss: 0.3161 - acc: 0.8642\n",
      "Epoch 00002: val_acc improved from 0.84147 to 0.85645, saving model to best_model.h5\n",
      "1950/1950 [==============================] - 16s 8ms/step - loss: 0.3160 - acc: 0.8642 - val_loss: 0.3433 - val_acc: 0.8564\n",
      "Epoch 3/15\n",
      "1944/1950 [============================>.] - ETA: 0s - loss: 0.2906 - acc: 0.8777\n",
      "Epoch 00003: val_acc improved from 0.85645 to 0.85901, saving model to best_model.h5\n",
      "1950/1950 [==============================] - 16s 8ms/step - loss: 0.2907 - acc: 0.8777 - val_loss: 0.3222 - val_acc: 0.8590\n",
      "Epoch 4/15\n",
      "1946/1950 [============================>.] - ETA: 0s - loss: 0.2745 - acc: 0.8868\n",
      "Epoch 00004: val_acc improved from 0.85901 to 0.86993, saving model to best_model.h5\n",
      "1950/1950 [==============================] - 16s 8ms/step - loss: 0.2745 - acc: 0.8868 - val_loss: 0.3070 - val_acc: 0.8699\n",
      "Epoch 5/15\n",
      "1949/1950 [============================>.] - ETA: 0s - loss: 0.2610 - acc: 0.8931\n",
      "Epoch 00005: val_acc improved from 0.86993 to 0.87064, saving model to best_model.h5\n",
      "1950/1950 [==============================] - 16s 8ms/step - loss: 0.2610 - acc: 0.8931 - val_loss: 0.3098 - val_acc: 0.8706\n",
      "Epoch 6/15\n",
      "1945/1950 [============================>.] - ETA: 0s - loss: 0.2490 - acc: 0.8985\n",
      "Epoch 00006: val_acc improved from 0.87064 to 0.87232, saving model to best_model.h5\n",
      "1950/1950 [==============================] - 15s 8ms/step - loss: 0.2490 - acc: 0.8985 - val_loss: 0.3070 - val_acc: 0.8723\n",
      "Epoch 7/15\n",
      "1947/1950 [============================>.] - ETA: 0s - loss: 0.2369 - acc: 0.9041\n",
      "Epoch 00007: val_acc improved from 0.87232 to 0.87300, saving model to best_model.h5\n",
      "1950/1950 [==============================] - 15s 8ms/step - loss: 0.2369 - acc: 0.9041 - val_loss: 0.3014 - val_acc: 0.8730\n",
      "Epoch 8/15\n",
      "1944/1950 [============================>.] - ETA: 0s - loss: 0.2248 - acc: 0.9099\n",
      "Epoch 00008: val_acc did not improve from 0.87300\n",
      "1950/1950 [==============================] - 16s 8ms/step - loss: 0.2247 - acc: 0.9099 - val_loss: 0.3265 - val_acc: 0.8692\n",
      "Epoch 9/15\n",
      "1948/1950 [============================>.] - ETA: 0s - loss: 0.2126 - acc: 0.9160\n",
      "Epoch 00009: val_acc did not improve from 0.87300\n",
      "1950/1950 [==============================] - 16s 8ms/step - loss: 0.2126 - acc: 0.9160 - val_loss: 0.3162 - val_acc: 0.8711\n",
      "Epoch 10/15\n",
      "1945/1950 [============================>.] - ETA: 0s - loss: 0.1990 - acc: 0.9222\n",
      "Epoch 00010: val_acc did not improve from 0.87300\n",
      "1950/1950 [==============================] - 15s 8ms/step - loss: 0.1991 - acc: 0.9222 - val_loss: 0.3216 - val_acc: 0.8664\n",
      "Epoch 11/15\n",
      "1946/1950 [============================>.] - ETA: 0s - loss: 0.1846 - acc: 0.9286\n",
      "Epoch 00011: val_acc did not improve from 0.87300\n",
      "1950/1950 [==============================] - 15s 8ms/step - loss: 0.1846 - acc: 0.9286 - val_loss: 0.3645 - val_acc: 0.8607\n",
      "Epoch 00011: early stopping\n"
     ]
    }
   ],
   "source": [
    "model.compile(optimizer='rmsprop', loss='binary_crossentropy', metrics=['acc'])\n",
    "history = model.fit(X_train, y_train, epochs=15, callbacks=[es, mc], batch_size=60, validation_split=0.2) \n",
    "# validation set은  fit 할 때 할당해주었다."
   ]
  },
  {
   "cell_type": "code",
   "execution_count": 18,
   "metadata": {},
   "outputs": [
    {
     "name": "stdout",
     "output_type": "stream",
     "text": [
      "1537/1537 [==============================] - 4s 3ms/step - loss: 0.3054 - acc: 0.8711\n",
      "\n",
      " 테스트 정확도: 0.8711\n"
     ]
    }
   ],
   "source": [
    "loaded_model = load_model('best_model.h5')\n",
    "print(\"\\n 테스트 정확도: %.4f\" % (loaded_model.evaluate(X_test, y_test)[1]))"
   ]
  },
  {
   "cell_type": "markdown",
   "metadata": {},
   "source": [
    "# 6. loss, accuracy 그래프 시각화"
   ]
  },
  {
   "cell_type": "code",
   "execution_count": 19,
   "metadata": {},
   "outputs": [
    {
     "name": "stdout",
     "output_type": "stream",
     "text": [
      "dict_keys(['loss', 'acc', 'val_loss', 'val_acc'])\n"
     ]
    }
   ],
   "source": [
    "history_dict = history.history\n",
    "print(history_dict.keys()) # epoch에 따른 그래프를 그려볼 수 있는 항목들"
   ]
  },
  {
   "cell_type": "code",
   "execution_count": 20,
   "metadata": {
    "scrolled": true
   },
   "outputs": [
    {
     "data": {
      "image/png": "[encoded data removed]",
      "text/plain": [
       "<Figure size 432x288 with 1 Axes>"
      ]
     },
     "metadata": {
      "needs_background": "light"
     },
     "output_type": "display_data"
    }
   ],
   "source": [
    "import matplotlib.pyplot as plt\n",
    "\n",
    "acc = history_dict['acc']\n",
    "val_acc = history_dict['val_acc']\n",
    "loss = history_dict['loss']\n",
    "val_loss = history_dict['val_loss']\n",
    "\n",
    "epochs = range(1, len(acc) + 1)\n",
    "\n",
    "# \"bo\"는 \"파란색 점\"입니다\n",
    "plt.plot(epochs, loss, 'bo', label='Training loss')\n",
    "# b는 \"파란 실선\"입니다\n",
    "plt.plot(epochs, val_loss, 'b', label='Validation loss')\n",
    "plt.plot(epochs, acc, 'r',label='acc')\n",
    "plt.title('Training and validation loss and acc')\n",
    "plt.xlabel('Epochs')\n",
    "plt.ylabel('Loss and acc')\n",
    "plt.legend()\n",
    "\n",
    "plt.show()"
   ]
  },
  {
   "cell_type": "markdown",
   "metadata": {},
   "source": [
    "# 7. 학습된 embeding layer 분석"
   ]
  },
  {
   "cell_type": "code",
   "execution_count": 21,
   "metadata": {},
   "outputs": [],
   "source": [
    "# 자체학습한 임베딩 분석? 이걸 어떻게 해야할 지..."
   ]
  },
  {
   "cell_type": "code",
   "execution_count": 22,
   "metadata": {},
   "outputs": [
    {
     "name": "stdout",
     "output_type": "stream",
     "text": [
      "사랑:  [('슬픔', 0.7216663360595703), ('행복', 0.6759077310562134), ('절망', 0.6468985676765442), ('기쁨', 0.6458414793014526), ('이별', 0.6334798336029053), ('추억', 0.6320937871932983), ('인생', 0.6216273307800293), ('애정', 0.6206068992614746), ('연인', 0.6186063289642334), ('유혹', 0.5965287685394287)]\n",
      "영웅:  [('악당', 0.5823014974594116), ('여신', 0.5505523681640625), ('거인', 0.5494499206542969), ('비극', 0.5426483154296875), ('용사', 0.5414282083511353), ('요정', 0.5367072224617004), ('서사시', 0.5364639163017273), ('주인공', 0.5148755311965942), ('악마', 0.5130380392074585), ('마법사', 0.5130000114440918)]\n",
      "파국:  [('과도기', 0.5172320008277893), ('격변', 0.5143023729324341), ('인륜', 0.4792666435241699), ('파멸', 0.4749737083911896), ('전체주의', 0.46998634934425354), ('권위주의', 0.45743483304977417), ('격동', 0.4573524296283722), ('변혁', 0.4527782201766968), ('파탄', 0.4488372802734375), ('비민주', 0.44860202074050903)]\n"
     ]
    },
    {
     "name": "stderr",
     "output_type": "stream",
     "text": [
      "/home/aiffel/anaconda3/envs/aiffel/lib/python3.7/site-packages/ipykernel_launcher.py:5: DeprecationWarning: Call to deprecated `most_similar` (Method will be removed in 4.0.0, use self.wv.most_similar() instead).\n",
      "  \"\"\"\n",
      "/home/aiffel/anaconda3/envs/aiffel/lib/python3.7/site-packages/ipykernel_launcher.py:6: DeprecationWarning: Call to deprecated `most_similar` (Method will be removed in 4.0.0, use self.wv.most_similar() instead).\n",
      "  \n",
      "/home/aiffel/anaconda3/envs/aiffel/lib/python3.7/site-packages/ipykernel_launcher.py:7: DeprecationWarning: Call to deprecated `most_similar` (Method will be removed in 4.0.0, use self.wv.most_similar() instead).\n",
      "  import sys\n"
     ]
    }
   ],
   "source": [
    "from gensim.models.word2vec import Word2Vec\n",
    "\n",
    "word2vec_model = Word2Vec.load('/home/aiffel/aiffel/naver_review/ko/ko.bin')\n",
    "\n",
    "print('사랑: ',word2vec_model.most_similar(positive=[\"사랑\"]))\n",
    "print('영웅: ',word2vec_model.most_similar(positive=[\"영웅\"]))\n",
    "print('파국: ',word2vec_model.most_similar(positive=[\"파국\"]))\n",
    "\n",
    "# 이미 학습한 레이어를 가지고 와서 사랑,영웅,파국을 분석하였다. 비슷 비슷한 단어를 가져온 걸로보아 성능은 괜찮은 것으로 보인다."
   ]
  },
  {
   "cell_type": "markdown",
   "metadata": {},
   "source": [
    "# 8. 한국어 word2vec 임베딩 활용하여 성능개선"
   ]
  },
  {
   "cell_type": "code",
   "execution_count": 23,
   "metadata": {
    "scrolled": true
   },
   "outputs": [
    {
     "name": "stdout",
     "output_type": "stream",
     "text": [
      "Word2Vec(vocab=30185, size=200, alpha=0.025)\n"
     ]
    }
   ],
   "source": [
    "print(word2vec_model)"
   ]
  },
  {
   "cell_type": "code",
   "execution_count": 24,
   "metadata": {
    "scrolled": true
   },
   "outputs": [],
   "source": [
    "t = Tokenizer()\n",
    "\n",
    "vocab_size = 30185    # 어휘 사전의 크기입니다(10,000개의 단어)\n",
    "word_vector_dim = 200  # 워드 벡터의 차원수 (변경가능한 하이퍼파라미터)\n",
    "\n",
    "embedding_matrix = np.random.rand(vocab_size, word_vector_dim)\n",
    "\n",
    "def get_vector(word):\n",
    "    if word in word2vec_model:\n",
    "        return word2vec_model[word]\n",
    "    else:\n",
    "        return None\n",
    " \n",
    "for word, i in t.word_index.items(): # 훈련 데이터의 단어 집합에서 단어와 정수 인덱스를 1개씩 꺼내온다.\n",
    "    temp = get_vector(word) # 단어(key) 해당되는 임베딩 벡터의 300개의 값(value)를 임시 변수에 저장\n",
    "    if temp is not None: # 만약 None이 아니라면 임베딩 벡터의 값을 리턴받은 것이므로\n",
    "        embedding_matrix[i] = temp # 해당 단어 위치의 행에 벡터의 값을 저장한다.\n",
    "\n",
    "\n",
    "\n",
    "\n",
    "from tensorflow.keras.initializers import Constant\n",
    "\n",
    "\n",
    "\n",
    "\n",
    "\n",
    "# 모델 구성\n",
    "model = keras.Sequential()\n",
    "model.add(keras.layers.Embedding(vocab_size, \n",
    "                                 word_vector_dim, \n",
    "                                 embeddings_initializer=Constant(embedding_matrix),  # 카피한 임베딩을 여기서 활용\n",
    "                                 input_length=max_len, \n",
    "                                 trainable=True))   # trainable을 True로 주면 Fine-tuning\n",
    "model.add(keras.layers.Conv1D(20, 7, activation='relu'))\n",
    "model.add(keras.layers.Conv1D(20, 7, activation='relu'))\n",
    "model.add(keras.layers.MaxPooling1D(5))\n",
    "model.add(keras.layers.Conv1D(16, 5, activation='relu'))\n",
    "model.add(keras.layers.GlobalMaxPooling1D())\n",
    "model.add(keras.layers.Dense(8, activation='relu'))\n",
    "model.add(keras.layers.Dense(1, activation='sigmoid')) \n"
   ]
  },
  {
   "cell_type": "code",
   "execution_count": 25,
   "metadata": {},
   "outputs": [
    {
     "name": "stdout",
     "output_type": "stream",
     "text": [
      "Epoch 1/20\n",
      "229/229 [==============================] - 28s 120ms/step - loss: 0.6891 - accuracy: 0.5299 - val_loss: 0.6448 - val_accuracy: 0.6583\n",
      "Epoch 2/20\n",
      "229/229 [==============================] - 16s 72ms/step - loss: 0.5104 - accuracy: 0.7430 - val_loss: 0.4559 - val_accuracy: 0.7800\n",
      "Epoch 3/20\n",
      "229/229 [==============================] - 17s 73ms/step - loss: 0.4232 - accuracy: 0.7991 - val_loss: 0.4381 - val_accuracy: 0.7899\n",
      "Epoch 4/20\n",
      "229/229 [==============================] - 17s 73ms/step - loss: 0.3935 - accuracy: 0.8148 - val_loss: 0.4360 - val_accuracy: 0.7936\n",
      "Epoch 5/20\n",
      "229/229 [==============================] - 17s 73ms/step - loss: 0.3726 - accuracy: 0.8256 - val_loss: 0.4692 - val_accuracy: 0.7771\n",
      "Epoch 6/20\n",
      "229/229 [==============================] - 17s 74ms/step - loss: 0.3494 - accuracy: 0.8395 - val_loss: 0.4658 - val_accuracy: 0.7821\n",
      "Epoch 7/20\n",
      "229/229 [==============================] - 17s 73ms/step - loss: 0.3255 - accuracy: 0.8531 - val_loss: 0.4688 - val_accuracy: 0.7851\n",
      "Epoch 8/20\n",
      "229/229 [==============================] - 17s 72ms/step - loss: 0.3010 - accuracy: 0.8651 - val_loss: 0.5070 - val_accuracy: 0.7783\n",
      "Epoch 9/20\n",
      "229/229 [==============================] - 16s 70ms/step - loss: 0.2749 - accuracy: 0.8780 - val_loss: 0.5295 - val_accuracy: 0.7745\n",
      "Epoch 10/20\n",
      "229/229 [==============================] - 17s 73ms/step - loss: 0.2536 - accuracy: 0.8880 - val_loss: 0.5703 - val_accuracy: 0.7687\n",
      "Epoch 11/20\n",
      "229/229 [==============================] - 17s 72ms/step - loss: 0.2354 - accuracy: 0.8976 - val_loss: 0.5969 - val_accuracy: 0.7718\n",
      "Epoch 12/20\n",
      "229/229 [==============================] - 18s 77ms/step - loss: 0.2187 - accuracy: 0.9042 - val_loss: 0.6343 - val_accuracy: 0.7653\n",
      "Epoch 13/20\n",
      "229/229 [==============================] - 19s 84ms/step - loss: 0.2053 - accuracy: 0.9095 - val_loss: 0.6501 - val_accuracy: 0.7624\n",
      "Epoch 14/20\n",
      "229/229 [==============================] - 20s 86ms/step - loss: 0.1908 - accuracy: 0.9163 - val_loss: 0.7363 - val_accuracy: 0.7563\n",
      "Epoch 15/20\n",
      "229/229 [==============================] - 20s 85ms/step - loss: 0.1785 - accuracy: 0.9215 - val_loss: 0.7366 - val_accuracy: 0.7599\n",
      "Epoch 16/20\n",
      "229/229 [==============================] - 20s 86ms/step - loss: 0.1688 - accuracy: 0.9259 - val_loss: 0.7629 - val_accuracy: 0.7572\n",
      "Epoch 17/20\n",
      "229/229 [==============================] - 20s 86ms/step - loss: 0.1631 - accuracy: 0.9278 - val_loss: 0.8185 - val_accuracy: 0.7568\n",
      "Epoch 18/20\n",
      "229/229 [==============================] - 20s 85ms/step - loss: 0.1584 - accuracy: 0.9298 - val_loss: 0.8318 - val_accuracy: 0.7542\n",
      "Epoch 19/20\n",
      "229/229 [==============================] - 20s 85ms/step - loss: 0.1556 - accuracy: 0.9302 - val_loss: 0.8545 - val_accuracy: 0.7529\n",
      "Epoch 20/20\n",
      "229/229 [==============================] - 19s 83ms/step - loss: 0.1442 - accuracy: 0.9349 - val_loss: 0.9555 - val_accuracy: 0.7536\n",
      "1537/1537 - 9s - loss: 0.9541 - accuracy: 0.7510\n",
      "[0.9540581703186035, 0.7510426044464111]\n"
     ]
    }
   ],
   "source": [
    "# 학습의 진행\n",
    "model.compile(optimizer='adam',\n",
    "              loss='binary_crossentropy',\n",
    "              metrics=['accuracy'])\n",
    "              \n",
    "epochs=20  # 몇 epoch를 훈련하면 좋을지 결과를 보면서 바꾸어 봅시다. \n",
    "\n",
    "history = model.fit(X_train,\n",
    "                    y_train,\n",
    "                    epochs=epochs,\n",
    "                    batch_size=512,\n",
    "                    validation_split=0.2,\n",
    "                    verbose=1)\n",
    "# 테스트셋을 통한 모델 평가\n",
    "results = model.evaluate(X_test,  y_test, verbose=2)\n",
    "\n",
    "print(results)"
   ]
  },
  {
   "cell_type": "markdown",
   "metadata": {},
   "source": [
    "75퍼밖에 나오지 않는다."
   ]
  },
  {
   "cell_type": "markdown",
   "metadata": {},
   "source": [
    "# 회고\n",
    "너무 어려워서 이해하는 데에 오래걸렸고, 팀원분들과 같이 하면서 차근차근 배워나가니 이해가 되었다. 여전히 모르는 게 많지만 조금씩 하다보면 잘 될거라 믿는다."
   ]
  }
 ],
 "metadata": {
  "kernelspec": {
   "display_name": "aiffel",
   "language": "python",
   "name": "aiffel"
  },
  "language_info": {
   "codemirror_mode": {
    "name": "ipython",
    "version": 3
   },
   "file_extension": ".py",
   "mimetype": "text/x-python",
   "name": "python",
   "nbconvert_exporter": "python",
   "pygments_lexer": "ipython3",
   "version": "3.7.9"
  }
 },
 "nbformat": 4,
 "nbformat_minor": 4
}
