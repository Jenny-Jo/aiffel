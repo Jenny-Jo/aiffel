{
 "cells": [
  {
   "cell_type": "markdown",
   "metadata": {},
   "source": [
    "# Spectrogram?\n",
    "wav 데이터 해석하는 법\n",
    "\n",
    "일정 시간동안 wav 데이터 안에 얼마나 다양한 주파수가 포함되었는 가를 보여줌\n",
    "\n",
    "1차원 waveform 데이터와 달리 2차원 spectrogram 데이터를 입력받아 수행해보기"
   ]
  },
  {
   "cell_type": "markdown",
   "metadata": {},
   "source": [
    "# 1.  wave data 분석, 처리와 분류"
   ]
  },
  {
   "cell_type": "markdown",
   "metadata": {},
   "source": [
    "$ mkdir -p ~/aiffel/speech_recognition/data\n",
    "\n",
    "$ mkdir -p ~/aiffel/speech_recognition/models\n",
    "\n",
    "$ wget https://aiffelstaticdev.blob.core.windows.net/dataset/speech_wav_8000.npz -P ~/aiffel/speech_recognition/data"
   ]
  },
  {
   "cell_type": "code",
   "execution_count": 1,
   "metadata": {},
   "outputs": [
    {
     "name": "stdout",
     "output_type": "stream",
     "text": [
      "✅\n"
     ]
    }
   ],
   "source": [
    "import numpy as np\n",
    "import os\n",
    "\n",
    "data_path = os.getenv(\"HOME\")+'/aiffel/speech_recognition/data/speech_wav_8000.npz'\n",
    "speech_data = np.load(data_path)\n",
    "\n",
    "print(\"✅\")"
   ]
  },
  {
   "cell_type": "code",
   "execution_count": 2,
   "metadata": {
    "scrolled": true
   },
   "outputs": [
    {
     "name": "stdout",
     "output_type": "stream",
     "text": [
      "Wave data shape :  (50620, 8000)\n",
      "Label data shape :  (50620, 1)\n",
      "✅\n"
     ]
    }
   ],
   "source": [
    "# 데이터셋 살펴보기\n",
    "print(\"Wave data shape : \", speech_data[\"wav_vals\"].shape)\n",
    "print(\"Label data shape : \", speech_data[\"label_vals\"].shape)\n",
    "print(\"✅\")"
   ]
  },
  {
   "cell_type": "markdown",
   "metadata": {},
   "source": [
    "# 푸리에 변환\n",
    "\n",
    "복합파인 음원을 주파수 대역별로 쪼개어 해석하기\n",
    "\n",
    "# STFT  - short time fourier transform\n",
    "시간의 길이 쪼개기\n",
    "\n",
    "시간의 흐름에 따라 신호의 주파수 변했을 때, 어느 시간대에 주파수가 변하는 지 모름.\n",
    "시간의 길이를 나눠서 푸리에 변환함.\n",
    "\n",
    "# spectogram\n"
   ]
  },
  {
   "cell_type": "code",
   "execution_count": 3,
   "metadata": {
    "scrolled": true
   },
   "outputs": [
    {
     "name": "stdout",
     "output_type": "stream",
     "text": [
      "✅\n"
     ]
    }
   ],
   "source": [
    "import librosa\n",
    "\n",
    "def wav2spec(wav, fft_size=258): # spectrogram shape을 맞추기위해서 size 변형\n",
    "    D = np.abs(librosa.stft(wav, n_fft=fft_size))\n",
    "    return D\n",
    "print(\"✅\")"
   ]
  },
  {
   "cell_type": "code",
   "execution_count": 4,
   "metadata": {},
   "outputs": [],
   "source": [
    "# wave 파일을 for문을 돌려서 spec 함수에 넣어서 변환하기\n",
    "spec_list = []\n",
    "for wav in speech_data[\"wav_vals\"]:\n",
    "    spec_list.append(wav2spec(wav))\n",
    "\n",
    "spec_list = np.array(spec_list)"
   ]
  },
  {
   "cell_type": "code",
   "execution_count": 5,
   "metadata": {
    "scrolled": false
   },
   "outputs": [
    {
     "name": "stdout",
     "output_type": "stream",
     "text": [
      "Spectrogram shape :  (50620, 130, 126)\n"
     ]
    }
   ],
   "source": [
    "print(\"Spectrogram shape : \",spec_list.shape)"
   ]
  },
  {
   "cell_type": "markdown",
   "metadata": {},
   "source": [
    "어떻습니까? 1차원의 Waveform 데이터가 2차원의 Spectrogram 데이터로 변환되었습니다.\n",
    "\n",
    "그렇다면 방금 변환된 Spectrogram을 출력해보겠습니다.\n",
    "\n",
    "만약에, 우리가 Waveform 데이터 대신 이 Spectrogram 포맷으로 모든 음성 데이터를 변환한 후 음성인식 모델을 학습시킨다면, 과연 Waveform과 비교했을 때 더 나은 성능을 기대할 수 있을까요?"
   ]
  },
  {
   "cell_type": "markdown",
   "metadata": {},
   "source": [
    "## 1-1. label data 처리"
   ]
  },
  {
   "cell_type": "code",
   "execution_count": 6,
   "metadata": {},
   "outputs": [
    {
     "name": "stdout",
     "output_type": "stream",
     "text": [
      "LABEL :  ['yes', 'no', 'up', 'down', 'left', 'right', 'on', 'off', 'stop', 'go', 'unknown', 'silence']\n",
      "Indexed LABEL :  {'yes': 0, 'no': 1, 'up': 2, 'down': 3, 'left': 4, 'right': 5, 'on': 6, 'off': 7, 'stop': 8, 'go': 9, 'unknown': 10, 'silence': 11}\n"
     ]
    }
   ],
   "source": [
    "target_list = ['yes', 'no', 'up', 'down', 'left', 'right', 'on', 'off', 'stop', 'go']\n",
    "\n",
    "label_value = target_list\n",
    "label_value.append('unknown')\n",
    "label_value.append('silence')\n",
    "\n",
    "print('LABEL : ', label_value)\n",
    "\n",
    "new_label_value = dict()\n",
    "for i, l in enumerate(label_value):\n",
    "    new_label_value[l] = i\n",
    "label_value = new_label_value\n",
    "\n",
    "print('Indexed LABEL : ', new_label_value)"
   ]
  },
  {
   "cell_type": "code",
   "execution_count": 7,
   "metadata": {},
   "outputs": [
    {
     "data": {
      "text/plain": [
       "array([ 3,  3,  3, ..., 11, 11, 11])"
      ]
     },
     "execution_count": 7,
     "metadata": {},
     "output_type": "execute_result"
    }
   ],
   "source": [
    "# Text로 이루어진 라벨 데이터를 학습에 사용하기 위해서 index 형태로 바꿔주는 작업을 하였습니다.\n",
    "temp = []\n",
    "for v in speech_data[\"label_vals\"]:\n",
    "    temp.append(label_value[v[0]])\n",
    "\n",
    "label_data = np.array(temp)\n",
    "\n",
    "label_data"
   ]
  },
  {
   "cell_type": "markdown",
   "metadata": {},
   "source": [
    "## 1-2 train/test set"
   ]
  },
  {
   "cell_type": "markdown",
   "metadata": {},
   "source": [
    "## 학습을 위한 데이터 분리"
   ]
  },
  {
   "cell_type": "code",
   "execution_count": 8,
   "metadata": {
    "scrolled": true
   },
   "outputs": [
    {
     "name": "stdout",
     "output_type": "stream",
     "text": [
      "[[[2.25948796e-01 2.83187372e-03 4.37496565e-02 ... 1.00246809e-01\n",
      "   2.20231339e-01 3.90363663e-01]\n",
      "  [3.15622866e-01 2.60356396e-01 1.99053451e-01 ... 2.86065489e-01\n",
      "   3.23950380e-01 1.24859184e-01]\n",
      "  [3.05243045e-01 2.12914392e-01 2.38681182e-01 ... 3.69946599e-01\n",
      "   2.99007684e-01 1.87774271e-01]\n",
      "  ...\n",
      "  [5.52281551e-02 2.58845780e-02 1.75179797e-03 ... 1.44594768e-03\n",
      "   5.68126095e-03 1.58088580e-02]\n",
      "  [5.43434210e-02 2.82767359e-02 1.24600192e-03 ... 1.03130566e-04\n",
      "   5.49111422e-03 9.61262919e-03]\n",
      "  [5.51733486e-02 2.75525674e-02 7.43534532e-04 ... 3.16205289e-04\n",
      "   5.24979131e-03 1.02571994e-02]]\n",
      "\n",
      " [[9.31036994e-02 5.32200709e-02 7.92028476e-03 ... 2.23458698e-03\n",
      "   3.43097337e-02 2.95792557e-02]\n",
      "  [2.13187933e-01 1.34810686e-01 1.41246215e-01 ... 1.35431394e-01\n",
      "   1.00153044e-01 7.76020139e-02]\n",
      "  [3.47737372e-01 2.90926576e-01 2.72107333e-01 ... 2.72991687e-01\n",
      "   2.32971057e-01 8.42936710e-02]\n",
      "  ...\n",
      "  [5.46077406e-03 2.74829683e-03 6.47250927e-05 ... 3.14761855e-04\n",
      "   7.76350556e-04 1.69710012e-03]\n",
      "  [5.31385839e-03 2.67842948e-03 4.16001240e-05 ... 5.42857961e-05\n",
      "   7.31853303e-04 1.43708382e-03]\n",
      "  [5.25446283e-03 2.64547672e-03 2.85663300e-05 ... 1.44767600e-05\n",
      "   7.92295381e-04 1.45970238e-03]]\n",
      "\n",
      " [[2.55251816e-03 1.48105121e-03 1.09561160e-03 ... 1.54697162e-03\n",
      "   3.34381848e-03 1.72663108e-02]\n",
      "  [5.39276574e-04 2.78976583e-03 3.32719949e-03 ... 1.10408776e-02\n",
      "   1.56036643e-02 1.93193872e-02]\n",
      "  [3.35636316e-03 4.39031795e-03 1.74515811e-03 ... 1.56002911e-02\n",
      "   1.07057067e-02 1.51959816e-02]\n",
      "  ...\n",
      "  [2.15609150e-04 1.16296724e-04 3.28989445e-05 ... 3.16640180e-05\n",
      "   7.10850465e-04 1.43466657e-03]\n",
      "  [3.00312298e-04 1.66651385e-04 2.41404505e-05 ... 7.63456192e-05\n",
      "   7.03571830e-04 1.38657691e-03]\n",
      "  [3.19382147e-04 1.65464458e-04 7.74276373e-07 ... 8.09070934e-06\n",
      "   7.72126659e-04 1.43107411e-03]]\n",
      "\n",
      " ...\n",
      "\n",
      " [[1.22978641e-02 3.50653450e-03 2.55984487e-03 ... 5.79717867e-02\n",
      "   6.35286927e-01 1.41149819e+00]\n",
      "  [1.96710732e-02 1.12078656e-02 3.77020054e-03 ... 2.72052020e-01\n",
      "   8.21386158e-01 1.32576036e+00]\n",
      "  [2.40666922e-02 1.87429450e-02 6.20233594e-03 ... 1.39905763e+00\n",
      "   9.52153206e-01 2.06438303e+00]\n",
      "  ...\n",
      "  [4.54035681e-03 1.99109525e-03 5.67325449e-04 ... 5.80917753e-04\n",
      "   3.14771407e-03 6.17875950e-03]\n",
      "  [4.47660498e-03 2.39864062e-03 7.60089024e-05 ... 1.71298088e-04\n",
      "   2.90126330e-03 5.75199863e-03]\n",
      "  [4.55078855e-03 2.24394095e-03 5.38491331e-05 ... 4.41636730e-05\n",
      "   3.09480098e-03 5.82858268e-03]]\n",
      "\n",
      " [[2.75485078e-03 3.05693806e-03 8.31444515e-04 ... 9.42152285e-04\n",
      "   1.06336242e-02 9.00805648e-03]\n",
      "  [4.10041120e-03 6.61423313e-04 4.09997534e-03 ... 1.26281539e-02\n",
      "   6.77844463e-03 3.95698752e-03]\n",
      "  [5.43488609e-03 6.54349895e-03 6.76360587e-03 ... 1.18365465e-02\n",
      "   4.37057996e-03 3.54286225e-04]\n",
      "  ...\n",
      "  [9.37967798e-06 2.19036941e-04 5.46495576e-05 ... 8.11021528e-05\n",
      "   4.84590884e-04 8.63664143e-04]\n",
      "  [2.30867052e-04 1.48612191e-04 3.85888598e-05 ... 3.38249920e-05\n",
      "   4.10849316e-04 8.38733511e-04]\n",
      "  [2.59783643e-04 1.03936960e-04 2.75978018e-05 ... 7.09400729e-06\n",
      "   4.29739594e-04 8.04653449e-04]]\n",
      "\n",
      " [[2.53024399e-02 1.52825043e-02 7.11497851e-03 ... 1.00388685e-02\n",
      "   2.07800344e-02 3.26370522e-02]\n",
      "  [3.16233709e-02 1.17584327e-02 9.30169504e-03 ... 4.52350546e-03\n",
      "   1.26510104e-02 3.28816548e-02]\n",
      "  [5.17488010e-02 3.19893397e-02 6.71267835e-03 ... 1.39347333e-02\n",
      "   2.54965499e-02 4.08690609e-02]\n",
      "  ...\n",
      "  [4.17064596e-03 1.80845044e-03 5.53848920e-04 ... 6.01129374e-04\n",
      "   2.98279896e-03 5.46301203e-03]\n",
      "  [4.03785706e-03 2.16169073e-03 6.69108413e-05 ... 1.73551860e-04\n",
      "   3.02298367e-03 5.72856935e-03]\n",
      "  [4.08969028e-03 2.01604725e-03 4.70569394e-05 ... 5.27820957e-05\n",
      "   2.80410843e-03 5.56351943e-03]]]\n",
      "✅\n"
     ]
    }
   ],
   "source": [
    "from sklearn.model_selection import train_test_split\n",
    "\n",
    "# sr = 130*126 #(50620, 130, 126) conv1d\n",
    "# sr = (130,126) conv2D\n",
    "train_wav, test_wav, train_label, test_label = train_test_split(spec_list, \n",
    "                                                                label_data, \n",
    "                                                                test_size=0.1,\n",
    "                                                                shuffle=True)\n",
    "print(train_wav)\n",
    "\n",
    "# train_wav = train_wav.reshape([-1, sr, 1]) # add channel for CNN\n",
    "train_wav = train_wav.reshape([-1,130,126, 1]) # add channel for CNN 2d\n",
    "\n",
    "# test_wav = test_wav.reshape([-1, sr, 1])\n",
    "test_wav = test_wav.reshape([-1, 130,126,1])\n",
    "\n",
    "print(\"✅\")"
   ]
  },
  {
   "cell_type": "code",
   "execution_count": 9,
   "metadata": {
    "scrolled": true
   },
   "outputs": [
    {
     "name": "stdout",
     "output_type": "stream",
     "text": [
      "train data :  (45558, 130, 126, 1)\n",
      "train labels :  (45558,)\n",
      "test data :  (5062, 130, 126, 1)\n",
      "test labels :  (5062,)\n",
      "✅\n"
     ]
    }
   ],
   "source": [
    "print(\"train data : \", train_wav.shape)\n",
    "print(\"train labels : \", train_label.shape)\n",
    "print(\"test data : \", test_wav.shape)\n",
    "print(\"test labels : \", test_label.shape)\n",
    "print(\"✅\")"
   ]
  },
  {
   "cell_type": "markdown",
   "metadata": {},
   "source": [
    "# 2. hyper parameters setting"
   ]
  },
  {
   "cell_type": "code",
   "execution_count": 10,
   "metadata": {},
   "outputs": [
    {
     "data": {
      "text/plain": [
       "'/home/aiffel/aiffel/speech_recognition/models/wav'"
      ]
     },
     "execution_count": 10,
     "metadata": {},
     "output_type": "execute_result"
    }
   ],
   "source": [
    "batch_size = 32 # 256 or 512\n",
    "max_epochs = 5\n",
    "\n",
    "# the save point\n",
    "checkpoint_dir = os.getenv('HOME')+'/aiffel/speech_recognition/models/wav'\n",
    "\n",
    "checkpoint_dir"
   ]
  },
  {
   "cell_type": "markdown",
   "metadata": {},
   "source": [
    "# 3. data setting"
   ]
  },
  {
   "cell_type": "markdown",
   "metadata": {},
   "source": [
    "* tf.data.Dataset을 이용해서 데이터셋을 구성하겠습니다. \n",
    "\n",
    "\n",
    "* tf.data.Dataset.from_tensor_slices 함수에 return 받길 원하는 데이터를 튜플 (data, label) 형태로 넣어서 사용.\n",
    "\n",
    "* map 함수는 dataset이 데이터를 불러올때마다 동작시킬 데이터 전처리 함수를 매핑해 주는 역할을 합니다. 첫번째 map 함수는 from_tensor_slice 에 입력한 튜플 형태로 데이터를 받으며 return 값으로 어떤 데이터를 반환할지 결정합니다."
   ]
  },
  {
   "cell_type": "code",
   "execution_count": 11,
   "metadata": {},
   "outputs": [
    {
     "name": "stdout",
     "output_type": "stream",
     "text": [
      "✅\n"
     ]
    }
   ],
   "source": [
    "def one_hot_label(wav, label):\n",
    "    label = tf.one_hot(label, depth=12)\n",
    "    return wav, label\n",
    "print(\"✅\")"
   ]
  },
  {
   "cell_type": "code",
   "execution_count": 12,
   "metadata": {},
   "outputs": [],
   "source": [
    "del speech_data\n",
    "del spec_list"
   ]
  },
  {
   "cell_type": "code",
   "execution_count": 13,
   "metadata": {},
   "outputs": [
    {
     "name": "stdout",
     "output_type": "stream",
     "text": [
      "<BatchDataset shapes: ((None, 130, 126, 1), (None, 12)), types: (tf.float32, tf.float32)>\n",
      "<BatchDataset shapes: ((None, 130, 126, 1), (None, 12)), types: (tf.float32, tf.float32)>\n",
      "✅\n"
     ]
    }
   ],
   "source": [
    "import tensorflow as tf\n",
    "\n",
    "# for train\n",
    "train_dataset = tf.data.Dataset.from_tensor_slices((train_wav, train_label))\n",
    "train_dataset = train_dataset.map(one_hot_label)\n",
    "train_dataset = train_dataset.repeat().batch(batch_size=batch_size)\n",
    "print(train_dataset)\n",
    "\n",
    "# for test\n",
    "test_dataset = tf.data.Dataset.from_tensor_slices((test_wav, test_label))\n",
    "test_dataset = test_dataset.map(one_hot_label)\n",
    "test_dataset = test_dataset.batch(batch_size=batch_size)\n",
    "print(test_dataset)\n",
    "print(\"✅\")"
   ]
  },
  {
   "cell_type": "markdown",
   "metadata": {},
   "source": [
    "# 4. wave spectrogram classification 모델 구현"
   ]
  },
  {
   "cell_type": "code",
   "execution_count": 15,
   "metadata": {},
   "outputs": [
    {
     "name": "stdout",
     "output_type": "stream",
     "text": [
      "Model: \"model_1\"\n",
      "_________________________________________________________________\n",
      "Layer (type)                 Output Shape              Param #   \n",
      "=================================================================\n",
      "input_2 (InputLayer)         [(None, 130, 126, 1)]     0         \n",
      "_________________________________________________________________\n",
      "conv2d_10 (Conv2D)           (None, 130, 126, 32)      2624      \n",
      "_________________________________________________________________\n",
      "conv2d_11 (Conv2D)           (None, 130, 126, 32)      82976     \n",
      "_________________________________________________________________\n",
      "max_pooling2d_4 (MaxPooling2 (None, 65, 63, 32)        0         \n",
      "_________________________________________________________________\n",
      "conv2d_12 (Conv2D)           (None, 65, 63, 64)        165952    \n",
      "_________________________________________________________________\n",
      "conv2d_13 (Conv2D)           (None, 65, 63, 64)        331840    \n",
      "_________________________________________________________________\n",
      "max_pooling2d_5 (MaxPooling2 (None, 32, 31, 64)        0         \n",
      "_________________________________________________________________\n",
      "conv2d_14 (Conv2D)           (None, 32, 31, 128)       663680    \n",
      "_________________________________________________________________\n",
      "conv2d_15 (Conv2D)           (None, 32, 31, 128)       1327232   \n",
      "_________________________________________________________________\n",
      "conv2d_16 (Conv2D)           (None, 32, 31, 128)       1327232   \n",
      "_________________________________________________________________\n",
      "max_pooling2d_6 (MaxPooling2 (None, 16, 15, 128)       0         \n",
      "_________________________________________________________________\n",
      "conv2d_17 (Conv2D)           (None, 16, 15, 256)       2654464   \n",
      "_________________________________________________________________\n",
      "conv2d_18 (Conv2D)           (None, 16, 15, 256)       5308672   \n",
      "_________________________________________________________________\n",
      "conv2d_19 (Conv2D)           (None, 16, 15, 256)       5308672   \n",
      "_________________________________________________________________\n",
      "max_pooling2d_7 (MaxPooling2 (None, 8, 7, 256)         0         \n",
      "_________________________________________________________________\n",
      "dropout_1 (Dropout)          (None, 8, 7, 256)         0         \n",
      "_________________________________________________________________\n",
      "flatten_1 (Flatten)          (None, 14336)             0         \n",
      "_________________________________________________________________\n",
      "dense_2 (Dense)              (None, 256)               3670272   \n",
      "_________________________________________________________________\n",
      "batch_normalization_1 (Batch (None, 256)               1024      \n",
      "_________________________________________________________________\n",
      "activation_1 (Activation)    (None, 256)               0         \n",
      "_________________________________________________________________\n",
      "dense_3 (Dense)              (None, 12)                3084      \n",
      "=================================================================\n",
      "Total params: 20,847,724\n",
      "Trainable params: 20,847,212\n",
      "Non-trainable params: 512\n",
      "_________________________________________________________________\n"
     ]
    }
   ],
   "source": [
    "from tensorflow.keras import layers\n",
    "\n",
    "input_tensor = layers.Input(shape=(130,126,1))\n",
    "\n",
    "x = layers.Conv2D(32, 9, padding='same', activation='relu')(input_tensor)\n",
    "x = layers.Conv2D(32, 9, padding='same', activation='relu')(x)\n",
    "x = layers.MaxPool2D()(x)\n",
    "\n",
    "x = layers.Conv2D(64, 9, padding='same', activation='relu')(x)\n",
    "x = layers.Conv2D(64, 9, padding='same', activation='relu')(x)\n",
    "x = layers.MaxPool2D()(x)\n",
    "\n",
    "x = layers.Conv2D(128, 9, padding='same', activation='relu')(x)\n",
    "x = layers.Conv2D(128, 9, padding='same', activation='relu')(x)\n",
    "x = layers.Conv2D(128, 9, padding='same', activation='relu')(x)\n",
    "x = layers.MaxPool2D()(x)\n",
    "\n",
    "x = layers.Conv2D(256, 9, padding='same', activation='relu')(x)\n",
    "x = layers.Conv2D(256, 9, padding='same', activation='relu')(x)\n",
    "x = layers.Conv2D(256, 9, padding='same', activation='relu')(x)\n",
    "x = layers.MaxPool2D()(x)\n",
    "x = layers.Dropout(0.3)(x)\n",
    "\n",
    "x = layers.Flatten()(x)\n",
    "x = layers.Dense(256)(x)\n",
    "x = layers.BatchNormalization()(x)\n",
    "x = layers.Activation('relu')(x)\n",
    "\n",
    "output_tensor = layers.Dense(12)(x)\n",
    "\n",
    "model_wav = tf.keras.Model(input_tensor, output_tensor)\n",
    "\n",
    "model_wav.summary()"
   ]
  },
  {
   "cell_type": "markdown",
   "metadata": {},
   "source": [
    "# 5. Loss & Accuracy graph"
   ]
  },
  {
   "cell_type": "markdown",
   "metadata": {},
   "source": [
    "## Loss"
   ]
  },
  {
   "cell_type": "code",
   "execution_count": 16,
   "metadata": {},
   "outputs": [
    {
     "name": "stdout",
     "output_type": "stream",
     "text": [
      "✅\n"
     ]
    }
   ],
   "source": [
    "optimizer=tf.keras.optimizers.Adam(1e-4)\n",
    "model_wav.compile(loss=tf.keras.losses.CategoricalCrossentropy(from_logits=True),\n",
    "             optimizer=optimizer,\n",
    "             metrics=['accuracy'])\n",
    "print(\"✅\")"
   ]
  },
  {
   "cell_type": "markdown",
   "metadata": {},
   "source": [
    "## training"
   ]
  },
  {
   "cell_type": "code",
   "execution_count": 17,
   "metadata": {},
   "outputs": [
    {
     "name": "stdout",
     "output_type": "stream",
     "text": [
      "✅\n"
     ]
    }
   ],
   "source": [
    "# callback\n",
    "cp_callback = tf.keras.callbacks.ModelCheckpoint(checkpoint_dir,\n",
    "                                                 save_weights_only=True,\n",
    "                                                 monitor='val_loss',\n",
    "                                                 mode='auto',\n",
    "                                                 save_best_only=True,\n",
    "                                                 verbose=1)\n",
    "print(\"✅\")"
   ]
  },
  {
   "cell_type": "code",
   "execution_count": 18,
   "metadata": {},
   "outputs": [
    {
     "name": "stdout",
     "output_type": "stream",
     "text": [
      "Epoch 1/5\n",
      "1423/1423 [==============================] - ETA: 0s - loss: 0.6702 - accuracy: 0.7785\n",
      "Epoch 00001: val_loss improved from inf to 0.30477, saving model to /home/aiffel/aiffel/speech_recognition/models/wav\n",
      "1423/1423 [==============================] - 201s 141ms/step - loss: 0.6702 - accuracy: 0.7785 - val_loss: 0.3048 - val_accuracy: 0.9031\n",
      "Epoch 2/5\n",
      "1423/1423 [==============================] - ETA: 0s - loss: 0.2336 - accuracy: 0.9263\n",
      "Epoch 00002: val_loss improved from 0.30477 to 0.20588, saving model to /home/aiffel/aiffel/speech_recognition/models/wav\n",
      "1423/1423 [==============================] - 205s 144ms/step - loss: 0.2336 - accuracy: 0.9263 - val_loss: 0.2059 - val_accuracy: 0.9351\n",
      "Epoch 3/5\n",
      "1423/1423 [==============================] - ETA: 0s - loss: 0.1637 - accuracy: 0.9473\n",
      "Epoch 00003: val_loss improved from 0.20588 to 0.16958, saving model to /home/aiffel/aiffel/speech_recognition/models/wav\n",
      "1423/1423 [==============================] - 203s 143ms/step - loss: 0.1637 - accuracy: 0.9473 - val_loss: 0.1696 - val_accuracy: 0.9454\n",
      "Epoch 4/5\n",
      "1423/1423 [==============================] - ETA: 0s - loss: 0.1262 - accuracy: 0.9586\n",
      "Epoch 00004: val_loss did not improve from 0.16958\n",
      "1423/1423 [==============================] - 205s 144ms/step - loss: 0.1262 - accuracy: 0.9586 - val_loss: 0.1860 - val_accuracy: 0.9385\n",
      "Epoch 5/5\n",
      "1423/1423 [==============================] - ETA: 0s - loss: 0.1087 - accuracy: 0.9639\n",
      "Epoch 00005: val_loss did not improve from 0.16958\n",
      "1423/1423 [==============================] - 204s 143ms/step - loss: 0.1087 - accuracy: 0.9639 - val_loss: 0.1815 - val_accuracy: 0.9440\n",
      "✅\n"
     ]
    }
   ],
   "source": [
    "#30분 내외 소요 (메모리 사용량에 주의해 주세요.)\n",
    "history_wav = model_wav.fit(train_dataset, epochs=max_epochs,\n",
    "                    steps_per_epoch=len(train_wav) // batch_size,\n",
    "                    validation_data=test_dataset,\n",
    "                    validation_steps=len(test_wav) // batch_size,\n",
    "                    callbacks=[cp_callback]\n",
    "                    )\n",
    "print(\"✅\")"
   ]
  },
  {
   "cell_type": "code",
   "execution_count": 19,
   "metadata": {},
   "outputs": [
    {
     "data": {
      "image/png": "[encoded data removed]",
      "text/plain": [
       "<Figure size 576x576 with 2 Axes>"
      ]
     },
     "metadata": {
      "needs_background": "light"
     },
     "output_type": "display_data"
    },
    {
     "name": "stdout",
     "output_type": "stream",
     "text": [
      "✅\n"
     ]
    }
   ],
   "source": [
    "# 학습 결과 Plot\n",
    "import matplotlib.pyplot as plt\n",
    "\n",
    "acc = history_wav.history['accuracy']\n",
    "val_acc = history_wav.history['val_accuracy']\n",
    "\n",
    "loss=history_wav.history['loss']\n",
    "val_loss=history_wav.history['val_loss']\n",
    "\n",
    "epochs_range = range(len(acc))\n",
    "\n",
    "plt.figure(figsize=(8, 8))\n",
    "plt.subplot(1, 2, 1)\n",
    "plt.plot(epochs_range, acc, label='Training Accuracy')\n",
    "plt.plot(epochs_range, val_acc, label='Validation Accuracy')\n",
    "plt.legend(loc='lower right')\n",
    "plt.title('Training and Validation Accuracy')\n",
    "\n",
    "plt.subplot(1, 2, 2)\n",
    "plt.plot(epochs_range, loss, label='Training Loss')\n",
    "plt.plot(epochs_range, val_loss, label='Validation Loss')\n",
    "plt.legend(loc='upper right')\n",
    "plt.title('Training and Validation Loss')\n",
    "plt.show()\n",
    "print(\"✅\")"
   ]
  },
  {
   "cell_type": "markdown",
   "metadata": {},
   "source": [
    "## Evaluation"
   ]
  },
  {
   "cell_type": "code",
   "execution_count": 20,
   "metadata": {},
   "outputs": [
    {
     "name": "stdout",
     "output_type": "stream",
     "text": [
      "✅\n"
     ]
    }
   ],
   "source": [
    "# Evaluation\n",
    "model_wav.load_weights(checkpoint_dir)\n",
    "print(\"✅\")"
   ]
  },
  {
   "cell_type": "code",
   "execution_count": 21,
   "metadata": {
    "scrolled": true
   },
   "outputs": [
    {
     "name": "stdout",
     "output_type": "stream",
     "text": [
      "159/159 [==============================] - 23s 145ms/step - loss: 0.1695 - accuracy: 0.9455\n",
      "✅\n"
     ]
    }
   ],
   "source": [
    "results = model_wav.evaluate(test_dataset)\n",
    "print(\"✅\")"
   ]
  },
  {
   "cell_type": "code",
   "execution_count": 22,
   "metadata": {},
   "outputs": [
    {
     "name": "stdout",
     "output_type": "stream",
     "text": [
      "loss value: 0.169\n",
      "accuracy value: 94.5476%\n",
      "✅\n"
     ]
    }
   ],
   "source": [
    "# loss\n",
    "print(\"loss value: {:.3f}\".format(results[0]))\n",
    "# accuracy\n",
    "print(\"accuracy value: {:.4f}%\".format(results[1]*100))\n",
    "print(\"✅\")"
   ]
  },
  {
   "cell_type": "markdown",
   "metadata": {},
   "source": [
    "# 6. Test dataset을 이용해서 모델의 성능을 평가"
   ]
  },
  {
   "cell_type": "markdown",
   "metadata": {},
   "source": [
    "## model test"
   ]
  },
  {
   "cell_type": "code",
   "execution_count": 23,
   "metadata": {},
   "outputs": [
    {
     "name": "stdout",
     "output_type": "stream",
     "text": [
      "label :  left\n"
     ]
    }
   ],
   "source": [
    "# Test \n",
    "\n",
    "inv_label_value = {v: k for k, v in label_value.items()}\n",
    "batch_index = np.random.choice(len(test_wav), size=1, replace=False)\n",
    "\n",
    "batch_xs = test_wav[batch_index]\n",
    "batch_ys = test_label[batch_index]\n",
    "y_pred_ = model_wav(batch_xs, training=False)\n",
    "\n",
    "print(\"label : \", str(inv_label_value[batch_ys[0]]))\n",
    "\n",
    "# ipd.Audio(batch_xs.reshape(8000,), rate=8000)"
   ]
  },
  {
   "cell_type": "code",
   "execution_count": 24,
   "metadata": {},
   "outputs": [
    {
     "ename": "KeyError",
     "evalue": "52059",
     "output_type": "error",
     "traceback": [
      "\u001b[0;31m---------------------------------------------------------------------------\u001b[0m",
      "\u001b[0;31mKeyError\u001b[0m                                  Traceback (most recent call last)",
      "\u001b[0;32m<ipython-input-24-cd4b608ffa92>\u001b[0m in \u001b[0;36m<module>\u001b[0;34m\u001b[0m\n\u001b[1;32m      6\u001b[0m     \u001b[0mprint\u001b[0m\u001b[0;34m(\u001b[0m\u001b[0;34m\"y_pred: \"\u001b[0m \u001b[0;34m+\u001b[0m \u001b[0mstr\u001b[0m\u001b[0;34m(\u001b[0m\u001b[0minv_label_value\u001b[0m\u001b[0;34m[\u001b[0m\u001b[0mnp\u001b[0m\u001b[0;34m.\u001b[0m\u001b[0margmax\u001b[0m\u001b[0;34m(\u001b[0m\u001b[0my_pred_\u001b[0m\u001b[0;34m)\u001b[0m\u001b[0;34m]\u001b[0m\u001b[0;34m)\u001b[0m \u001b[0;34m+\u001b[0m \u001b[0;34m'(Correct!)'\u001b[0m\u001b[0;34m)\u001b[0m\u001b[0;34m\u001b[0m\u001b[0;34m\u001b[0m\u001b[0m\n\u001b[1;32m      7\u001b[0m \u001b[0;32melse\u001b[0m\u001b[0;34m:\u001b[0m\u001b[0;34m\u001b[0m\u001b[0;34m\u001b[0m\u001b[0m\n\u001b[0;32m----> 8\u001b[0;31m     \u001b[0mprint\u001b[0m\u001b[0;34m(\u001b[0m\u001b[0;34m\"y_pred: \"\u001b[0m \u001b[0;34m+\u001b[0m \u001b[0mstr\u001b[0m\u001b[0;34m(\u001b[0m\u001b[0minv_label_value\u001b[0m\u001b[0;34m[\u001b[0m\u001b[0mnp\u001b[0m\u001b[0;34m.\u001b[0m\u001b[0margmax\u001b[0m\u001b[0;34m(\u001b[0m\u001b[0my_pred_\u001b[0m\u001b[0;34m)\u001b[0m\u001b[0;34m]\u001b[0m\u001b[0;34m)\u001b[0m \u001b[0;34m+\u001b[0m \u001b[0;34m'(Incorrect!)'\u001b[0m\u001b[0;34m)\u001b[0m\u001b[0;34m\u001b[0m\u001b[0;34m\u001b[0m\u001b[0m\n\u001b[0m\u001b[1;32m      9\u001b[0m \u001b[0mprint\u001b[0m\u001b[0;34m(\u001b[0m\u001b[0;34m\"✅\"\u001b[0m\u001b[0;34m)\u001b[0m\u001b[0;34m\u001b[0m\u001b[0;34m\u001b[0m\u001b[0m\n",
      "\u001b[0;31mKeyError\u001b[0m: 52059"
     ]
    }
   ],
   "source": [
    "# 위에서 확인해본 테스트셋의 라벨과 우리 모델의 실제 prediction 결과를 비교해 봅시다.\n",
    "y_pred_ = model_wav.predict(test_wav)\n",
    "inv_label_value = {v: k for k, v in label_value.items()}\n",
    "\n",
    "if np.argmax(y_pred_) == test_label[0]:\n",
    "    print(\"y_pred: \" + str(inv_label_value[np.argmax(y_pred_)]) + '(Correct!)')\n",
    "else:\n",
    "    print(\"y_pred: \" + str(inv_label_value[np.argmax(y_pred_)]) + '(Incorrect!)')\n",
    "print(\"✅\")"
   ]
  },
  {
   "cell_type": "code",
   "execution_count": 25,
   "metadata": {
    "scrolled": true
   },
   "outputs": [
    {
     "ename": "NameError",
     "evalue": "name 'spec_list' is not defined",
     "output_type": "error",
     "traceback": [
      "\u001b[0;31m---------------------------------------------------------------------------\u001b[0m",
      "\u001b[0;31mNameError\u001b[0m                                 Traceback (most recent call last)",
      "\u001b[0;32m<ipython-input-25-e8154d456fc3>\u001b[0m in \u001b[0;36m<module>\u001b[0;34m\u001b[0m\n\u001b[1;32m      4\u001b[0m \u001b[0mdata_wav\u001b[0m \u001b[0;34m=\u001b[0m \u001b[0;34m[\u001b[0m\u001b[0;34m]\u001b[0m\u001b[0;34m\u001b[0m\u001b[0;34m\u001b[0m\u001b[0m\n\u001b[1;32m      5\u001b[0m \u001b[0;32mfor\u001b[0m \u001b[0mspec\u001b[0m \u001b[0;32min\u001b[0m \u001b[0mtest_wav\u001b[0m\u001b[0;34m:\u001b[0m\u001b[0;34m\u001b[0m\u001b[0;34m\u001b[0m\u001b[0m\n\u001b[0;32m----> 6\u001b[0;31m     \u001b[0mwav\u001b[0m \u001b[0;34m=\u001b[0m \u001b[0mspec2wav\u001b[0m\u001b[0;34m(\u001b[0m\u001b[0mspec_list\u001b[0m\u001b[0;34m)\u001b[0m\u001b[0;34m\u001b[0m\u001b[0;34m\u001b[0m\u001b[0m\n\u001b[0m\u001b[1;32m      7\u001b[0m     \u001b[0mdata_wav\u001b[0m\u001b[0;34m.\u001b[0m\u001b[0mappend\u001b[0m\u001b[0;34m(\u001b[0m\u001b[0mwav\u001b[0m\u001b[0;34m)\u001b[0m\u001b[0;34m\u001b[0m\u001b[0;34m\u001b[0m\u001b[0m\n\u001b[1;32m      8\u001b[0m \u001b[0mdata_wav\u001b[0m \u001b[0;34m=\u001b[0m \u001b[0mnp\u001b[0m\u001b[0;34m.\u001b[0m\u001b[0marray\u001b[0m\u001b[0;34m(\u001b[0m\u001b[0mdata_wav\u001b[0m\u001b[0;34m)\u001b[0m\u001b[0;34m\u001b[0m\u001b[0;34m\u001b[0m\u001b[0m\n",
      "\u001b[0;31mNameError\u001b[0m: name 'spec_list' is not defined"
     ]
    }
   ],
   "source": [
    "def spec2wav(wav):\n",
    "    D = np.abs(librosa.istft(wav))\n",
    "    return D\n",
    "data_wav = []\n",
    "for spec in test_wav:\n",
    "    wav = spec2wav(spec_list)\n",
    "    data_wav.append(wav)\n",
    "data_wav = np.array(data_wav)\n",
    "data_wav.shape"
   ]
  },
  {
   "cell_type": "markdown",
   "metadata": {},
   "source": [
    "여기선 더이상 어떻게 해야할 지 모르겠다."
   ]
  }
 ],
 "metadata": {
  "kernelspec": {
   "display_name": "aiffel",
   "language": "python",
   "name": "aiffel"
  },
  "language_info": {
   "codemirror_mode": {
    "name": "ipython",
    "version": 3
   },
   "file_extension": ".py",
   "mimetype": "text/x-python",
   "name": "python",
   "nbconvert_exporter": "python",
   "pygments_lexer": "ipython3",
   "version": "3.7.9"
  }
 },
 "nbformat": 4,
 "nbformat_minor": 4
}
