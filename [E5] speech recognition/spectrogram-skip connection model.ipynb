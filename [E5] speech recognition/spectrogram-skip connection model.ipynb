{
 "cells": [
  {
   "cell_type": "markdown",
   "metadata": {},
   "source": [
    "# Spectrogram?\n",
    "wav 데이터 해석하는 법\n",
    "\n",
    "일정 시간동안 wav 데이터 안에 얼마나 다양한 주파수가 포함되었는 가를 보여줌\n",
    "\n",
    "1차원 waveform 데이터와 달리 2차원 spectrogram 데이터를 입력받아 수행해보기"
   ]
  },
  {
   "cell_type": "markdown",
   "metadata": {},
   "source": [
    "1.데이터 불러오기\n",
    "2. 2차원 데이터로 변환 (노드 맨 마지막부분에 있는거)\n",
    "3. 데이터 처리\n",
    "4. 라벨데이터 인덱스작업\n",
    "5. 데이터분리\n",
    "6. 메모리 삭제(필요없는거 삭제 / 이거는 학습전에 하시면 될꺼 같아요 해당 변수 안쓸때 하시면 될 것 같아요)\n",
    "7. 나눈 데이터 셋 확인\n",
    "8. 하이퍼파라미터 설정\n",
    "9. 데이터 구성\n",
    "10, 모델 구현\n",
    "11. 학습 모델 평가\n",
    "12. 시각화\n",
    "13. 예측값과 실제 값 일치하는지 확인(result)\n",
    "14. 로스 값, 정확도 확인\n",
    "15.테스트 셋 라벨과 실제 예측 결과 비교\n",
    "이렇게 했어요\n",
    "\n",
    "LMS 예제랑 2차원 데이터 변환이 앞으로 바꿔치기 된거랑 일부 요구 코드 추가된거 제외하면 예제와 거의 비슷하게? 하실 수 있어요!\n",
    "먼저 혼자 해보시는거 원하셨던거 같아서 이렇게 말씀드렸는데 도움이 될런지 잘 모르겠네요! 화이팅입니다!\n",
    "\n",
    "메모리 비우기 \n",
    "재부팅하기"
   ]
  },
  {
   "cell_type": "markdown",
   "metadata": {},
   "source": [
    "# 1.  wave data 분석, 처리와 분류"
   ]
  },
  {
   "cell_type": "markdown",
   "metadata": {},
   "source": [
    "$ mkdir -p ~/aiffel/speech_recognition/data\n",
    "\n",
    "$ mkdir -p ~/aiffel/speech_recognition/models\n",
    "\n",
    "$ wget https://aiffelstaticdev.blob.core.windows.net/dataset/speech_wav_8000.npz -P ~/aiffel/speech_recognition/data"
   ]
  },
  {
   "cell_type": "code",
   "execution_count": 1,
   "metadata": {},
   "outputs": [
    {
     "name": "stdout",
     "output_type": "stream",
     "text": [
      "✅\n"
     ]
    }
   ],
   "source": [
    "import numpy as np\n",
    "import os\n",
    "\n",
    "data_path = os.getenv(\"HOME\")+'/aiffel/speech_recognition/data/speech_wav_8000.npz'\n",
    "speech_data = np.load(data_path)\n",
    "\n",
    "print(\"✅\")"
   ]
  },
  {
   "cell_type": "code",
   "execution_count": 2,
   "metadata": {
    "scrolled": true
   },
   "outputs": [
    {
     "name": "stdout",
     "output_type": "stream",
     "text": [
      "Wave data shape :  (50620, 8000)\n",
      "Label data shape :  (50620, 1)\n",
      "✅\n"
     ]
    }
   ],
   "source": [
    "# 데이터셋 살펴보기\n",
    "print(\"Wave data shape : \", speech_data[\"wav_vals\"].shape)\n",
    "print(\"Label data shape : \", speech_data[\"label_vals\"].shape)\n",
    "print(\"✅\")"
   ]
  },
  {
   "cell_type": "markdown",
   "metadata": {},
   "source": [
    "# 푸리에 변환\n",
    "\n",
    "복합파인 음원을 주파수 대역별로 쪼개어 해석하기\n",
    "\n",
    "# STFT  - short time fourier transform\n",
    "시간의 길이 쪼개기\n",
    "\n",
    "시간의 흐름에 따라 신호의 주파수 변했을 때, 어느 시간대에 주파수가 변하는 지 모름.\n",
    "시간의 길이를 나눠서 푸리에 변환함.\n",
    "\n",
    "# spectogram\n"
   ]
  },
  {
   "cell_type": "code",
   "execution_count": 3,
   "metadata": {
    "scrolled": true
   },
   "outputs": [
    {
     "name": "stdout",
     "output_type": "stream",
     "text": [
      "✅\n"
     ]
    }
   ],
   "source": [
    "import librosa\n",
    "\n",
    "def wav2spec(wav, fft_size=258): # spectrogram shape을 맞추기위해서 size 변형\n",
    "    D = np.abs(librosa.stft(wav, n_fft=fft_size))\n",
    "    return D\n",
    "print(\"✅\")"
   ]
  },
  {
   "cell_type": "code",
   "execution_count": 4,
   "metadata": {},
   "outputs": [],
   "source": [
    "# wave 파일을 for문을 돌려서 spec 함수에 넣어서 변환하기\n",
    "spec_list = []\n",
    "for wav in speech_data[\"wav_vals\"]:\n",
    "    spec_list.append(wav2spec(wav))\n",
    "\n",
    "spec_list = np.array(spec_list)"
   ]
  },
  {
   "cell_type": "code",
   "execution_count": 5,
   "metadata": {
    "scrolled": false
   },
   "outputs": [
    {
     "name": "stdout",
     "output_type": "stream",
     "text": [
      "Spectrogram shape :  (50620, 130, 126)\n"
     ]
    }
   ],
   "source": [
    "print(\"Spectrogram shape : \",spec_list.shape)"
   ]
  },
  {
   "cell_type": "markdown",
   "metadata": {},
   "source": [
    "어떻습니까? 1차원의 Waveform 데이터가 2차원의 Spectrogram 데이터로 변환되었습니다.\n",
    "\n",
    "그렇다면 방금 변환된 Spectrogram을 출력해보겠습니다.\n",
    "\n",
    "만약에, 우리가 Waveform 데이터 대신 이 Spectrogram 포맷으로 모든 음성 데이터를 변환한 후 음성인식 모델을 학습시킨다면, 과연 Waveform과 비교했을 때 더 나은 성능을 기대할 수 있을까요?"
   ]
  },
  {
   "cell_type": "markdown",
   "metadata": {},
   "source": [
    "## 1-1. label data 처리"
   ]
  },
  {
   "cell_type": "code",
   "execution_count": 6,
   "metadata": {},
   "outputs": [
    {
     "name": "stdout",
     "output_type": "stream",
     "text": [
      "LABEL :  ['yes', 'no', 'up', 'down', 'left', 'right', 'on', 'off', 'stop', 'go', 'unknown', 'silence']\n",
      "Indexed LABEL :  {'yes': 0, 'no': 1, 'up': 2, 'down': 3, 'left': 4, 'right': 5, 'on': 6, 'off': 7, 'stop': 8, 'go': 9, 'unknown': 10, 'silence': 11}\n"
     ]
    }
   ],
   "source": [
    "target_list = ['yes', 'no', 'up', 'down', 'left', 'right', 'on', 'off', 'stop', 'go']\n",
    "\n",
    "label_value = target_list\n",
    "label_value.append('unknown')\n",
    "label_value.append('silence')\n",
    "\n",
    "print('LABEL : ', label_value)\n",
    "\n",
    "new_label_value = dict()\n",
    "for i, l in enumerate(label_value):\n",
    "    new_label_value[l] = i\n",
    "label_value = new_label_value\n",
    "\n",
    "print('Indexed LABEL : ', new_label_value)"
   ]
  },
  {
   "cell_type": "code",
   "execution_count": 7,
   "metadata": {},
   "outputs": [
    {
     "data": {
      "text/plain": [
       "array([ 3,  3,  3, ..., 11, 11, 11])"
      ]
     },
     "execution_count": 7,
     "metadata": {},
     "output_type": "execute_result"
    }
   ],
   "source": [
    "# Text로 이루어진 라벨 데이터를 학습에 사용하기 위해서 index 형태로 바꿔주는 작업을 하였습니다.\n",
    "temp = []\n",
    "for v in speech_data[\"label_vals\"]:\n",
    "    temp.append(label_value[v[0]])\n",
    "\n",
    "label_data = np.array(temp)\n",
    "\n",
    "label_data"
   ]
  },
  {
   "cell_type": "markdown",
   "metadata": {},
   "source": [
    "## 1-2 train/test set"
   ]
  },
  {
   "cell_type": "markdown",
   "metadata": {},
   "source": [
    "## 학습을 위한 데이터 분리"
   ]
  },
  {
   "cell_type": "code",
   "execution_count": 8,
   "metadata": {
    "scrolled": true
   },
   "outputs": [
    {
     "name": "stdout",
     "output_type": "stream",
     "text": [
      "[[[5.14984457e-03 1.59962662e-03 5.93140903e-05 ... 1.80069346e-03\n",
      "   2.91756820e-03 9.39302333e-03]\n",
      "  [6.45352667e-03 4.23630932e-03 2.65494944e-03 ... 5.42967208e-03\n",
      "   7.36362813e-03 6.23688381e-03]\n",
      "  [4.39479249e-03 5.75732347e-03 5.45118842e-03 ... 8.25250521e-03\n",
      "   7.80674303e-03 2.28392263e-03]\n",
      "  ...\n",
      "  [3.62763851e-04 1.70226165e-04 1.64892208e-05 ... 1.02158287e-04\n",
      "   2.99853673e-05 3.49337497e-05]\n",
      "  [3.81493155e-04 2.00167749e-04 1.11192521e-05 ... 4.29794272e-05\n",
      "   4.51813648e-05 6.03646877e-05]\n",
      "  [3.92198854e-04 1.97350615e-04 6.31218381e-06 ... 2.19163721e-05\n",
      "   9.77528634e-06 5.18920970e-05]]\n",
      "\n",
      " [[9.08015855e-03 3.77690815e-03 1.30187010e-03 ... 2.65452941e-03\n",
      "   1.07026449e-03 3.76977539e-03]\n",
      "  [1.43511426e-02 7.35342363e-03 4.39249538e-03 ... 6.95040124e-03\n",
      "   5.28965099e-03 5.97978849e-03]\n",
      "  [2.03246009e-02 1.46181323e-02 5.67640085e-03 ... 1.30844275e-02\n",
      "   7.55189266e-03 5.99603169e-03]\n",
      "  ...\n",
      "  [4.94034775e-03 2.24242150e-03 8.65267124e-04 ... 5.57314896e-04\n",
      "   2.46516801e-03 4.55213943e-03]\n",
      "  [4.75594401e-03 2.51616794e-03 3.09371186e-04 ... 1.74279645e-04\n",
      "   2.57737795e-03 4.82212380e-03]\n",
      "  [4.75011440e-03 2.32948153e-03 9.37663935e-06 ... 5.18649395e-05\n",
      "   2.35212874e-03 4.70523350e-03]]\n",
      "\n",
      " [[2.93927025e-02 2.67891418e-02 1.25119453e-02 ... 5.71540883e-03\n",
      "   1.86950190e-03 1.49413552e-02]\n",
      "  [1.67936515e-02 1.29601806e-02 1.48504497e-02 ... 1.19643314e-02\n",
      "   1.36530446e-02 1.31745888e-02]\n",
      "  [2.12654807e-02 1.67685580e-02 1.04644736e-02 ... 1.99559424e-02\n",
      "   6.14424702e-03 8.84193741e-03]\n",
      "  ...\n",
      "  [3.59590849e-05 2.13811545e-05 1.60540458e-05 ... 2.00015893e-06\n",
      "   1.02786718e-04 1.85567013e-04]\n",
      "  [5.97251965e-05 3.38153550e-05 5.58083730e-06 ... 1.13184287e-05\n",
      "   8.79958607e-05 1.76490139e-04]\n",
      "  [6.17367841e-05 3.25338406e-05 2.75682146e-06 ... 5.01000022e-06\n",
      "   9.52283081e-05 1.79716255e-04]]\n",
      "\n",
      " ...\n",
      "\n",
      " [[1.84161644e-02 3.25030275e-02 3.57898213e-02 ... 5.45706451e-02\n",
      "   6.97042570e-02 3.96037512e-02]\n",
      "  [1.08039051e-01 8.11170712e-02 1.28402829e-01 ... 5.53045385e-02\n",
      "   6.39179498e-02 6.22006366e-03]\n",
      "  [1.16758794e-01 2.34183595e-01 3.88055921e-01 ... 1.05911463e-01\n",
      "   7.88380951e-02 1.53432414e-02]\n",
      "  ...\n",
      "  [2.83606863e-03 1.09442277e-03 5.80779219e-04 ... 4.44338191e-04\n",
      "   2.69338302e-03 5.04652644e-03]\n",
      "  [2.83421064e-03 1.61649170e-03 1.66131358e-04 ... 1.14181879e-04\n",
      "   2.91321520e-03 5.42520359e-03]\n",
      "  [2.93394923e-03 1.38465792e-03 1.08568980e-04 ... 1.03408311e-04\n",
      "   2.70182244e-03 5.36584295e-03]]\n",
      "\n",
      " [[9.37954406e-04 3.63708910e-04 1.74755260e-04 ... 1.09618821e-04\n",
      "   1.78066711e-03 3.70711577e-03]\n",
      "  [8.85590794e-04 5.42387890e-04 1.87281679e-04 ... 3.59563739e-04\n",
      "   2.07578554e-03 3.93867074e-03]\n",
      "  [1.34347181e-03 4.03923652e-04 1.13602720e-04 ... 6.59060257e-04\n",
      "   2.33501126e-03 4.93766554e-03]\n",
      "  ...\n",
      "  [5.29378631e-05 1.20405693e-05 2.45388110e-05 ... 4.22266574e-04\n",
      "   1.98585316e-04 2.31632497e-04]\n",
      "  [3.69746849e-05 2.78615153e-05 1.13608894e-05 ... 3.58034195e-05\n",
      "   8.06592798e-05 1.63676537e-04]\n",
      "  [5.00120404e-05 2.45600113e-05 2.12753230e-06 ... 4.66429592e-05\n",
      "   7.90393970e-05 1.08167005e-04]]\n",
      "\n",
      " [[1.43370200e-02 6.60550036e-03 9.37508885e-04 ... 7.87626603e-04\n",
      "   5.27679035e-03 1.21971443e-02]\n",
      "  [1.87897161e-02 8.87624081e-03 3.10254679e-03 ... 3.20856390e-03\n",
      "   7.67947314e-03 1.20422905e-02]\n",
      "  [2.42189076e-02 1.58135723e-02 4.05223295e-03 ... 8.01730249e-03\n",
      "   5.23566548e-03 1.18329311e-02]\n",
      "  ...\n",
      "  [4.70198458e-03 2.08161934e-03 5.64157614e-04 ... 5.88593481e-04\n",
      "   2.35340674e-03 4.39068628e-03]\n",
      "  [4.63197986e-03 2.47523072e-03 7.97962712e-05 ... 1.81955533e-04\n",
      "   2.52044434e-03 4.68355231e-03]\n",
      "  [4.69732517e-03 2.31582904e-03 5.39570719e-05 ... 5.70703560e-05\n",
      "   2.28352542e-03 4.58061835e-03]]]\n",
      "✅\n"
     ]
    }
   ],
   "source": [
    "from sklearn.model_selection import train_test_split\n",
    "\n",
    "# sr = 130*126 #(50620, 130, 126) conv1d\n",
    "# sr = (130,126) conv2D\n",
    "train_wav, test_wav, train_label, test_label = train_test_split(spec_list, \n",
    "                                                                label_data, \n",
    "                                                                test_size=0.1,\n",
    "                                                                shuffle=True)\n",
    "print(train_wav)\n",
    "\n",
    "# train_wav = train_wav.reshape([-1, sr, 1]) # add channel for CNN\n",
    "train_wav = train_wav.reshape([-1,130,126, 1]) # add channel for CNN 2d\n",
    "\n",
    "# test_wav = test_wav.reshape([-1, sr, 1])\n",
    "test_wav = test_wav.reshape([-1, 130,126,1])\n",
    "\n",
    "print(\"✅\")"
   ]
  },
  {
   "cell_type": "code",
   "execution_count": 9,
   "metadata": {
    "scrolled": true
   },
   "outputs": [
    {
     "name": "stdout",
     "output_type": "stream",
     "text": [
      "train data :  (45558, 130, 126, 1)\n",
      "train labels :  (45558,)\n",
      "test data :  (5062, 130, 126, 1)\n",
      "test labels :  (5062,)\n",
      "✅\n"
     ]
    }
   ],
   "source": [
    "print(\"train data : \", train_wav.shape)\n",
    "print(\"train labels : \", train_label.shape)\n",
    "print(\"test data : \", test_wav.shape)\n",
    "print(\"test labels : \", test_label.shape)\n",
    "print(\"✅\")"
   ]
  },
  {
   "cell_type": "markdown",
   "metadata": {},
   "source": [
    "# 2. hyper parameters setting"
   ]
  },
  {
   "cell_type": "code",
   "execution_count": 10,
   "metadata": {},
   "outputs": [
    {
     "data": {
      "text/plain": [
       "'/home/aiffel/aiffel/speech_recognition/models/wav'"
      ]
     },
     "execution_count": 10,
     "metadata": {},
     "output_type": "execute_result"
    }
   ],
   "source": [
    "batch_size = 32 # 256 or 512\n",
    "max_epochs = 5\n",
    "\n",
    "# the save point\n",
    "checkpoint_dir = os.getenv('HOME')+'/aiffel/speech_recognition/models/wav'\n",
    "\n",
    "checkpoint_dir"
   ]
  },
  {
   "cell_type": "markdown",
   "metadata": {},
   "source": [
    "# 3. data setting"
   ]
  },
  {
   "cell_type": "markdown",
   "metadata": {},
   "source": [
    "* tf.data.Dataset을 이용해서 데이터셋을 구성하겠습니다. \n",
    "\n",
    "\n",
    "* tf.data.Dataset.from_tensor_slices 함수에 return 받길 원하는 데이터를 튜플 (data, label) 형태로 넣어서 사용.\n",
    "\n",
    "* map 함수는 dataset이 데이터를 불러올때마다 동작시킬 데이터 전처리 함수를 매핑해 주는 역할을 합니다. 첫번째 map 함수는 from_tensor_slice 에 입력한 튜플 형태로 데이터를 받으며 return 값으로 어떤 데이터를 반환할지 결정합니다."
   ]
  },
  {
   "cell_type": "code",
   "execution_count": 11,
   "metadata": {},
   "outputs": [
    {
     "name": "stdout",
     "output_type": "stream",
     "text": [
      "✅\n"
     ]
    }
   ],
   "source": [
    "def one_hot_label(wav, label):\n",
    "    label = tf.one_hot(label, depth=12)\n",
    "    return wav, label\n",
    "print(\"✅\")"
   ]
  },
  {
   "cell_type": "code",
   "execution_count": 12,
   "metadata": {},
   "outputs": [],
   "source": [
    "del speech_data\n",
    "del spec_list"
   ]
  },
  {
   "cell_type": "code",
   "execution_count": 13,
   "metadata": {},
   "outputs": [
    {
     "name": "stdout",
     "output_type": "stream",
     "text": [
      "<BatchDataset shapes: ((None, 130, 126, 1), (None, 12)), types: (tf.float32, tf.float32)>\n",
      "<BatchDataset shapes: ((None, 130, 126, 1), (None, 12)), types: (tf.float32, tf.float32)>\n",
      "✅\n"
     ]
    }
   ],
   "source": [
    "import tensorflow as tf\n",
    "\n",
    "# for train\n",
    "train_dataset = tf.data.Dataset.from_tensor_slices((train_wav, train_label))\n",
    "train_dataset = train_dataset.map(one_hot_label)\n",
    "train_dataset = train_dataset.repeat().batch(batch_size=batch_size)\n",
    "print(train_dataset)\n",
    "\n",
    "# for test\n",
    "test_dataset = tf.data.Dataset.from_tensor_slices((test_wav, test_label))\n",
    "test_dataset = test_dataset.map(one_hot_label)\n",
    "test_dataset = test_dataset.batch(batch_size=batch_size)\n",
    "print(test_dataset)\n",
    "print(\"✅\")"
   ]
  },
  {
   "cell_type": "markdown",
   "metadata": {},
   "source": [
    "# 4-2. skip-connection model"
   ]
  },
  {
   "cell_type": "code",
   "execution_count": 15,
   "metadata": {},
   "outputs": [
    {
     "name": "stdout",
     "output_type": "stream",
     "text": [
      "Model: \"model\"\n",
      "__________________________________________________________________________________________________\n",
      "Layer (type)                    Output Shape         Param #     Connected to                     \n",
      "==================================================================================================\n",
      "input_1 (InputLayer)            [(None, 130, 126, 1) 0                                            \n",
      "__________________________________________________________________________________________________\n",
      "conv2d (Conv2D)                 (None, 130, 126, 32) 2624        input_1[0][0]                    \n",
      "__________________________________________________________________________________________________\n",
      "conv2d_1 (Conv2D)               (None, 130, 126, 32) 82976       conv2d[0][0]                     \n",
      "__________________________________________________________________________________________________\n",
      "max_pooling2d (MaxPooling2D)    (None, 65, 63, 32)   0           conv2d_1[0][0]                   \n",
      "__________________________________________________________________________________________________\n",
      "conv2d_2 (Conv2D)               (None, 65, 63, 64)   165952      max_pooling2d[0][0]              \n",
      "__________________________________________________________________________________________________\n",
      "conv2d_3 (Conv2D)               (None, 65, 63, 64)   331840      conv2d_2[0][0]                   \n",
      "__________________________________________________________________________________________________\n",
      "tf_op_layer_concat (TensorFlowO [(None, 65, 63, 96)] 0           conv2d_3[0][0]                   \n",
      "                                                                 max_pooling2d[0][0]              \n",
      "__________________________________________________________________________________________________\n",
      "max_pooling2d_1 (MaxPooling2D)  (None, 32, 31, 96)   0           tf_op_layer_concat[0][0]         \n",
      "__________________________________________________________________________________________________\n",
      "conv2d_4 (Conv2D)               (None, 32, 31, 128)  995456      max_pooling2d_1[0][0]            \n",
      "__________________________________________________________________________________________________\n",
      "conv2d_5 (Conv2D)               (None, 32, 31, 128)  1327232     conv2d_4[0][0]                   \n",
      "__________________________________________________________________________________________________\n",
      "conv2d_6 (Conv2D)               (None, 32, 31, 128)  1327232     conv2d_5[0][0]                   \n",
      "__________________________________________________________________________________________________\n",
      "tf_op_layer_concat_1 (TensorFlo [(None, 32, 31, 224) 0           conv2d_6[0][0]                   \n",
      "                                                                 max_pooling2d_1[0][0]            \n",
      "__________________________________________________________________________________________________\n",
      "max_pooling2d_2 (MaxPooling2D)  (None, 16, 15, 224)  0           tf_op_layer_concat_1[0][0]       \n",
      "__________________________________________________________________________________________________\n",
      "conv2d_7 (Conv2D)               (None, 16, 15, 256)  4645120     max_pooling2d_2[0][0]            \n",
      "__________________________________________________________________________________________________\n",
      "conv2d_8 (Conv2D)               (None, 16, 15, 256)  5308672     conv2d_7[0][0]                   \n",
      "__________________________________________________________________________________________________\n",
      "conv2d_9 (Conv2D)               (None, 16, 15, 256)  5308672     conv2d_8[0][0]                   \n",
      "__________________________________________________________________________________________________\n",
      "tf_op_layer_concat_2 (TensorFlo [(None, 16, 15, 480) 0           conv2d_9[0][0]                   \n",
      "                                                                 max_pooling2d_2[0][0]            \n",
      "__________________________________________________________________________________________________\n",
      "max_pooling2d_3 (MaxPooling2D)  (None, 8, 7, 480)    0           tf_op_layer_concat_2[0][0]       \n",
      "__________________________________________________________________________________________________\n",
      "dropout (Dropout)               (None, 8, 7, 480)    0           max_pooling2d_3[0][0]            \n",
      "__________________________________________________________________________________________________\n",
      "flatten (Flatten)               (None, 26880)        0           dropout[0][0]                    \n",
      "__________________________________________________________________________________________________\n",
      "dense (Dense)                   (None, 256)          6881536     flatten[0][0]                    \n",
      "__________________________________________________________________________________________________\n",
      "batch_normalization (BatchNorma (None, 256)          1024        dense[0][0]                      \n",
      "__________________________________________________________________________________________________\n",
      "activation (Activation)         (None, 256)          0           batch_normalization[0][0]        \n",
      "__________________________________________________________________________________________________\n",
      "dense_1 (Dense)                 (None, 12)           3084        activation[0][0]                 \n",
      "==================================================================================================\n",
      "Total params: 26,381,420\n",
      "Trainable params: 26,380,908\n",
      "Non-trainable params: 512\n",
      "__________________________________________________________________________________________________\n"
     ]
    }
   ],
   "source": [
    "from tensorflow.keras import layers\n",
    "\n",
    "input_tensor = layers.Input(shape=(130,126, 1))\n",
    "\n",
    "x = layers.Conv2D(32, 9, padding='same', activation='relu')(input_tensor)\n",
    "x = layers.Conv2D(32, 9, padding='same', activation='relu')(x)\n",
    "skip_1 = layers.MaxPool2D()(x)\n",
    "\n",
    "x = layers.Conv2D(64, 9, padding='same', activation='relu')(skip_1)\n",
    "x = layers.Conv2D(64, 9, padding='same', activation='relu')(x)\n",
    "x = tf.concat([x, skip_1], -1)\n",
    "skip_2 = layers.MaxPool2D()(x)\n",
    "\n",
    "x = layers.Conv2D(128, 9, padding='same', activation='relu')(skip_2)\n",
    "x = layers.Conv2D(128, 9, padding='same', activation='relu')(x)\n",
    "x = layers.Conv2D(128, 9, padding='same', activation='relu')(x)\n",
    "x = tf.concat([x, skip_2], -1)\n",
    "skip_3 = layers.MaxPool2D()(x)\n",
    "\n",
    "x = layers.Conv2D(256, 9, padding='same', activation='relu')(skip_3)\n",
    "x = layers.Conv2D(256, 9, padding='same', activation='relu')(x)\n",
    "x = layers.Conv2D(256, 9, padding='same', activation='relu')(x)\n",
    "x = tf.concat([x, skip_3], -1)\n",
    "x = layers.MaxPool2D()(x)\n",
    "x = layers.Dropout(0.3)(x)\n",
    "\n",
    "x = layers.Flatten()(x)\n",
    "x = layers.Dense(256)(x)\n",
    "x = layers.BatchNormalization()(x)\n",
    "x = layers.Activation('relu')(x)\n",
    "\n",
    "output_tensor = layers.Dense(12)(x)\n",
    "\n",
    "model_wav_skip = tf.keras.Model(input_tensor, output_tensor)\n",
    "\n",
    "model_wav_skip.summary()"
   ]
  },
  {
   "cell_type": "code",
   "execution_count": 16,
   "metadata": {},
   "outputs": [
    {
     "name": "stdout",
     "output_type": "stream",
     "text": [
      "✅\n"
     ]
    }
   ],
   "source": [
    "optimizer=tf.keras.optimizers.Adam(1e-4)\n",
    "model_wav_skip.compile(loss=tf.keras.losses.CategoricalCrossentropy(from_logits=True),\n",
    "             optimizer=optimizer,\n",
    "             metrics=['accuracy'])\n",
    "print(\"✅\")"
   ]
  },
  {
   "cell_type": "code",
   "execution_count": 17,
   "metadata": {},
   "outputs": [
    {
     "name": "stdout",
     "output_type": "stream",
     "text": [
      "✅\n"
     ]
    }
   ],
   "source": [
    "# the save point\n",
    "checkpoint_dir = os.getenv('HOME')+'/aiffel/speech_recognition/models/wav_skip'\n",
    "\n",
    "cp_callback = tf.keras.callbacks.ModelCheckpoint(checkpoint_dir,\n",
    "                                                 save_weights_only=True,\n",
    "                                                 monitor='val_loss',\n",
    "                                                 mode='auto',\n",
    "                                                 save_best_only=True,\n",
    "                                                 verbose=1)\n",
    "print(\"✅\")"
   ]
  },
  {
   "cell_type": "code",
   "execution_count": 18,
   "metadata": {},
   "outputs": [
    {
     "name": "stdout",
     "output_type": "stream",
     "text": [
      "Epoch 1/5\n",
      "1423/1423 [==============================] - ETA: 0s - loss: 0.7026 - accuracy: 0.7734\n",
      "Epoch 00001: val_loss improved from inf to 0.25298, saving model to /home/aiffel/aiffel/speech_recognition/models/wav_skip\n",
      "1423/1423 [==============================] - 218s 153ms/step - loss: 0.7026 - accuracy: 0.7734 - val_loss: 0.2530 - val_accuracy: 0.9211\n",
      "Epoch 2/5\n",
      "1423/1423 [==============================] - ETA: 0s - loss: 0.2049 - accuracy: 0.9343\n",
      "Epoch 00002: val_loss improved from 0.25298 to 0.19502, saving model to /home/aiffel/aiffel/speech_recognition/models/wav_skip\n",
      "1423/1423 [==============================] - 222s 156ms/step - loss: 0.2049 - accuracy: 0.9343 - val_loss: 0.1950 - val_accuracy: 0.9375\n",
      "Epoch 3/5\n",
      "1423/1423 [==============================] - ETA: 0s - loss: 0.1322 - accuracy: 0.9572\n",
      "Epoch 00003: val_loss improved from 0.19502 to 0.15248, saving model to /home/aiffel/aiffel/speech_recognition/models/wav_skip\n",
      "1423/1423 [==============================] - 218s 153ms/step - loss: 0.1322 - accuracy: 0.9572 - val_loss: 0.1525 - val_accuracy: 0.9549\n",
      "Epoch 4/5\n",
      "1423/1423 [==============================] - ETA: 0s - loss: 0.1013 - accuracy: 0.9666\n",
      "Epoch 00004: val_loss improved from 0.15248 to 0.12847, saving model to /home/aiffel/aiffel/speech_recognition/models/wav_skip\n",
      "1423/1423 [==============================] - 226s 159ms/step - loss: 0.1013 - accuracy: 0.9666 - val_loss: 0.1285 - val_accuracy: 0.9595\n",
      "Epoch 5/5\n",
      "1423/1423 [==============================] - ETA: 0s - loss: 0.0844 - accuracy: 0.9721\n",
      "Epoch 00005: val_loss did not improve from 0.12847\n",
      "1423/1423 [==============================] - 222s 156ms/step - loss: 0.0844 - accuracy: 0.9721 - val_loss: 0.1469 - val_accuracy: 0.9533\n",
      "✅\n"
     ]
    }
   ],
   "source": [
    "#30분 내외 소요\n",
    "history_wav_skip = model_wav_skip.fit(train_dataset, epochs=max_epochs,\n",
    "                    steps_per_epoch=len(train_wav) // batch_size,\n",
    "                    validation_data=test_dataset,\n",
    "                    validation_steps=len(test_wav) // batch_size,\n",
    "                    callbacks=[cp_callback]\n",
    "                    )\n",
    "print(\"✅\")"
   ]
  },
  {
   "cell_type": "code",
   "execution_count": 19,
   "metadata": {},
   "outputs": [
    {
     "data": {
      "image/png": "[encoded data removed]",
      "text/plain": [
       "<Figure size 576x576 with 2 Axes>"
      ]
     },
     "metadata": {
      "needs_background": "light"
     },
     "output_type": "display_data"
    },
    {
     "name": "stdout",
     "output_type": "stream",
     "text": [
      "✅\n"
     ]
    }
   ],
   "source": [
    "import matplotlib.pyplot as plt\n",
    "\n",
    "acc = history_wav_skip.history['accuracy']\n",
    "val_acc = history_wav_skip.history['val_accuracy']\n",
    "\n",
    "loss=history_wav_skip.history['loss']\n",
    "val_loss=history_wav_skip.history['val_loss']\n",
    "\n",
    "epochs_range = range(len(acc))\n",
    "\n",
    "plt.figure(figsize=(8, 8))\n",
    "plt.subplot(1, 2, 1)\n",
    "plt.plot(epochs_range, acc, label='Training Accuracy')\n",
    "plt.plot(epochs_range, val_acc, label='Validation Accuracy')\n",
    "plt.legend(loc='lower right')\n",
    "plt.title('Training and Validation Accuracy')\n",
    "\n",
    "plt.subplot(1, 2, 2)\n",
    "plt.plot(epochs_range, loss, label='Training Loss')\n",
    "plt.plot(epochs_range, val_loss, label='Validation Loss')\n",
    "plt.legend(loc='upper right')\n",
    "plt.title('Training and Validation Loss')\n",
    "plt.show()\n",
    "print(\"✅\")"
   ]
  },
  {
   "cell_type": "code",
   "execution_count": 20,
   "metadata": {},
   "outputs": [
    {
     "name": "stdout",
     "output_type": "stream",
     "text": [
      "159/159 [==============================] - 23s 145ms/step - loss: 0.1283 - accuracy: 0.9595\n",
      "loss value: 0.128\n",
      "accuracy value: 95.9502%\n",
      "✅\n"
     ]
    }
   ],
   "source": [
    "# Evaluation \n",
    "\n",
    "model_wav_skip.load_weights(checkpoint_dir)\n",
    "results = model_wav_skip.evaluate(test_dataset)\n",
    "\n",
    "# loss\n",
    "print(\"loss value: {:.3f}\".format(results[0]))\n",
    "# accuracy\n",
    "print(\"accuracy value: {:.4f}%\".format(results[1]*100))\n",
    "print(\"✅\")"
   ]
  },
  {
   "cell_type": "code",
   "execution_count": 22,
   "metadata": {},
   "outputs": [
    {
     "name": "stdout",
     "output_type": "stream",
     "text": [
      "label :  left\n"
     ]
    }
   ],
   "source": [
    "# Test \n",
    "\n",
    "inv_label_value = {v: k for k, v in label_value.items()}\n",
    "batch_index = np.random.choice(len(test_wav), size=1, replace=False)\n",
    "\n",
    "batch_xs = test_wav[batch_index]\n",
    "batch_ys = test_label[batch_index]\n",
    "y_pred_ = model_wav_skip(batch_xs, training=False)\n",
    "\n",
    "print(\"label : \", str(inv_label_value[batch_ys[0]]))\n",
    "\n",
    "# ipd.Audio(batch_xs.reshape(8000,), rate=8000)"
   ]
  },
  {
   "cell_type": "code",
   "execution_count": 23,
   "metadata": {},
   "outputs": [
    {
     "name": "stdout",
     "output_type": "stream",
     "text": [
      "y_pred: left(Correct!)\n",
      "✅\n"
     ]
    }
   ],
   "source": [
    "if np.argmax(y_pred_) == batch_ys[0]:\n",
    "    print(\"y_pred: \" + str(inv_label_value[np.argmax(y_pred_)]) + '(Correct!)')\n",
    "else:\n",
    "    print(\"y_pred: \" + str(inv_label_value[np.argmax(y_pred_)]) + '(Incorrect!)')\n",
    "print(\"✅\")"
   ]
  },
  {
   "cell_type": "markdown",
   "metadata": {},
   "source": [
    "# 회고\n",
    "\n",
    " 처음에 음성에 대한 개념과 푸리에 변환부터 이해하기 힘들었다. 또한 음성을 다뤄보는 것은 처음이기에 더 어려웠던 것 같다. 그래도 다른 동기들의 도움으로 어찌저찌 잘 헤쳐나갔다. 전체적인 틀을 잡고 그 안에서 어떻게 구성이 되었는 가를 보며 접근하니 조금은 수월하였다.\n",
    " 이번 기회에 skip connection model이란 것이 있단 것을 알았고 정확도 95프로 넘는 것을 보고 꽤나 괜찮은 모델임을 실감하였다. \n",
    "차후에 제대로 공부할 수 있다면 그 기회에 잘 배워보도록 하겠다."
   ]
  }
 ],
 "metadata": {
  "kernelspec": {
   "display_name": "aiffel",
   "language": "python",
   "name": "aiffel"
  },
  "language_info": {
   "codemirror_mode": {
    "name": "ipython",
    "version": 3
   },
   "file_extension": ".py",
   "mimetype": "text/x-python",
   "name": "python",
   "nbconvert_exporter": "python",
   "pygments_lexer": "ipython3",
   "version": "3.7.9"
  }
 },
 "nbformat": 4,
 "nbformat_minor": 4
}
