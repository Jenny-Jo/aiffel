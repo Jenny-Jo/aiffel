{
 "cells": [
  {
   "cell_type": "markdown",
   "metadata": {
    "id": "hZCK6E5FfXjZ"
   },
   "source": [
    "\n",
    "\n",
    "---\n",
    "\n",
    "# **1. Data 전처리**\n",
    "\n",
    "---\n",
    "\n"
   ]
  },
  {
   "cell_type": "code",
   "execution_count": 1,
   "metadata": {
    "colab": {
     "base_uri": "https://localhost:8080/"
    },
    "id": "rneQd3-kej6y",
    "outputId": "2922adc8-4db2-4e70-d93d-16dba503b3b5"
   },
   "outputs": [
    {
     "name": "stdout",
     "output_type": "stream",
     "text": [
      "Requirement already satisfied: pillow in /home/aiffel/anaconda3/envs/aiffel/lib/python3.7/site-packages (8.0.1)\n",
      "PIL 라이브러리 import 완료!\n"
     ]
    }
   ],
   "source": [
    "# PIL 라이브러리가 설치되어 있지 않다면 설치\n",
    "!pip install pillow   \n",
    "\n",
    "from PIL import Image\n",
    "import os, glob\n",
    "\n",
    "print(\"PIL 라이브러리 import 완료!\")"
   ]
  },
  {
   "cell_type": "markdown",
   "metadata": {},
   "source": [
    "## 1) resizing"
   ]
  },
  {
   "cell_type": "code",
   "execution_count": 7,
   "metadata": {
    "colab": {
     "base_uri": "https://localhost:8080/"
    },
    "id": "-uIuvsmcOCfw",
    "outputId": "d6c6b754-0ab7-483c-d6e7-f88343e67ca7"
   },
   "outputs": [
    {
     "name": "stdout",
     "output_type": "stream",
     "text": [
      "이미지 디렉토리 경로:  /home/aiffel/rock_scissor_paper/scissor\n",
      "가위 이미지 resize 완료!\n"
     ]
    }
   ],
   "source": [
    "import os\n",
    "import tensorflow as tf\n",
    "from tensorflow import keras\n",
    "\n",
    "import numpy as np\n",
    "import matplotlib.pyplot as plt\n",
    "# 가위 이미지가 저장된 디렉토리 아래의 모든 jpg 파일을 읽어들여서\n",
    "image_dir_path = os.getenv(\"HOME\") + \"/rock_scissor_paper/scissor\"\n",
    "print(\"이미지 디렉토리 경로: \", image_dir_path)\n",
    "\n",
    "images=glob.glob(image_dir_path + \"/*.*\")  \n",
    "\n",
    "# 파일마다 모두 28x28 사이즈로 바꾸어 저장합니다.\n",
    "target_size=(28,28)\n",
    "for img in images:\n",
    "    old_img=Image.open(img)\n",
    "    new_img=old_img.resize(target_size,Image.ANTIALIAS)\n",
    "    new_img.save(img,\"JPEG\")\n",
    "\n",
    "print(\"가위 이미지 resize 완료!\")"
   ]
  },
  {
   "cell_type": "code",
   "execution_count": 8,
   "metadata": {
    "colab": {
     "base_uri": "https://localhost:8080/"
    },
    "id": "xT7N2KKhOFCu",
    "outputId": "f668d0cb-abf8-4078-b04f-6b552165a8c5"
   },
   "outputs": [
    {
     "name": "stdout",
     "output_type": "stream",
     "text": [
      "image directory path :  /home/aiffel/rock_scissor_paper/rock\n",
      "resizing rock image done!\n"
     ]
    }
   ],
   "source": [
    "# 바위 이미지가 저장된 디렉토리 아래의 모든 jpg 파일을 읽어들여서\n",
    "\n",
    "import os\n",
    "image_dir_path = os.getenv(\"HOME\") + \"/rock_scissor_paper/rock\"\n",
    "print(\"image directory path : \", image_dir_path)\n",
    "images=glob.glob(image_dir_path + \"/*.*\")  \n",
    "# 파일마다 모두 28x28 사이즈로 바꾸어 저장합니다.\n",
    "target_size =(28,28)\n",
    "for img in images:\n",
    "  old_img = Image.open(img)\n",
    "  new_img = old_img.resize(target_size,Image.ANTIALIAS)\n",
    "  new_img.save(img,\"JPEG\")\n",
    " \n",
    "print(\"resizing rock image done!\")"
   ]
  },
  {
   "cell_type": "code",
   "execution_count": 9,
   "metadata": {
    "colab": {
     "base_uri": "https://localhost:8080/"
    },
    "id": "j5smzQyre0VP",
    "outputId": "355491eb-1534-4691-a966-06fc67046302"
   },
   "outputs": [
    {
     "name": "stdout",
     "output_type": "stream",
     "text": [
      "image directory path :  /home/aiffel/rock_scissor_paper/paper\n",
      "resizing scissor image done!\n"
     ]
    }
   ],
   "source": [
    "# 보 이미지가 저장된 디렉토리 아래의 모든 jpg 파일을 읽어들여서\n",
    "import os\n",
    "image_dir_path = os.getenv(\"HOME\") + \"/rock_scissor_paper/paper\"\n",
    "print(\"image directory path : \", image_dir_path)\n",
    "images=glob.glob(image_dir_path + \"/*.*\")  \n",
    "# 파일마다 모두 28x28 사이즈로 바꾸어 저장합니다.\n",
    "target_size =(28,28)\n",
    "for img in images:\n",
    "  old_img = Image.open(img)\n",
    "  new_img = old_img.resize(target_size,Image.ANTIALIAS)\n",
    "  new_img.save(img,\"JPEG\")\n",
    " \n",
    "print(\"resizing scissor image done!\")"
   ]
  },
  {
   "cell_type": "markdown",
   "metadata": {},
   "source": [
    "## 2) load data"
   ]
  },
  {
   "cell_type": "code",
   "execution_count": 32,
   "metadata": {
    "colab": {
     "base_uri": "https://localhost:8080/"
    },
    "id": "FXuH7GpkfM6z",
    "outputId": "60b6da27-d9b5-489d-d30f-359b073cfd52"
   },
   "outputs": [
    {
     "name": "stdout",
     "output_type": "stream",
     "text": [
      "데이터(x)의 이미지 개수는 3300 입니다.\n",
      "x shape: (3300, 28, 28, 3)\n",
      "y shape: (3300,)\n"
     ]
    }
   ],
   "source": [
    "def load_data(img_path):\n",
    "    # 가위 : 0, 바위 : 1, 보 : 2\n",
    "    number_of_data=3300   # 가위바위보 이미지 개수 총합에 주의하세요.\n",
    "    img_size=28\n",
    "    color=3\n",
    "    #이미지 데이터와 라벨(가위 : 0, 바위 : 1, 보 : 2) 데이터를 담을 행렬(matrix) 영역을 생성합니다.\n",
    "    imgs=np.zeros(number_of_data*img_size*img_size*color,dtype=np.int32).reshape(number_of_data,img_size,img_size,color)\n",
    "    labels=np.zeros(number_of_data,dtype=np.int32)\n",
    "\n",
    "    idx=0\n",
    "    for file in glob.iglob(img_path+'/scissor/*.*'):\n",
    "        img = np.array(Image.open(file),dtype=np.int32)\n",
    "        imgs[idx,:,:,:]=img    # 데이터 영역에 이미지 행렬을 복사\n",
    "        labels[idx]=0   # 가위 : 0\n",
    "        idx=idx+1\n",
    "\n",
    "    for file in glob.iglob(img_path+'/rock/*.*'):\n",
    "        img = np.array(Image.open(file),dtype=np.int32)\n",
    "        imgs[idx,:,:,:]=img    # 데이터 영역에 이미지 행렬을 복사\n",
    "        labels[idx]=1   # 바위 : 1\n",
    "        idx=idx+1       \n",
    "    \n",
    "    for file in glob.iglob(img_path+'/paper/*.*'):\n",
    "        img = np.array(Image.open(file),dtype=np.int32)\n",
    "        imgs[idx,:,:,:]=img    # 데이터 영역에 이미지 행렬을 복사\n",
    "        labels[idx]=2   # 보 : 2\n",
    "        idx=idx+1\n",
    "        \n",
    "    print(\"데이터(x)의 이미지 개수는\",idx,\"입니다.\")\n",
    "    return imgs, labels\n",
    "\n",
    "image_dir_path = os.getenv(\"HOME\") + \"/rock_scissor_paper\"\n",
    "(x, y)=load_data(image_dir_path)\n",
    "x = x/255.0   # 입력은 0~1 사이의 값으로 정규화\n",
    "\n",
    "print(\"x shape: {}\".format(x.shape))\n",
    "print(\"y shape: {}\".format(y.shape))"
   ]
  },
  {
   "cell_type": "code",
   "execution_count": 35,
   "metadata": {},
   "outputs": [
    {
     "data": {
      "text/plain": [
       "(990, 28, 28, 3)"
      ]
     },
     "execution_count": 35,
     "metadata": {},
     "output_type": "execute_result"
    }
   ],
   "source": [
    "from sklearn.model_selection import train_test_split\n",
    "x_train,x_test,y_train, y_test = train_test_split(x,y,test_size=0.3,random_state=30)\n",
    "x_test.shape"
   ]
  },
  {
   "cell_type": "code",
   "execution_count": 36,
   "metadata": {
    "colab": {
     "base_uri": "https://localhost:8080/",
     "height": 282
    },
    "id": "dB7sTHIxfRkz",
    "outputId": "ec351efd-14c2-4f1d-ee40-03982ac65281",
    "scrolled": true
   },
   "outputs": [
    {
     "name": "stdout",
     "output_type": "stream",
     "text": [
      "라벨:  1\n"
     ]
    },
    {
     "data": {
      "image/png": "[encoded data removed]",
      "text/plain": [
       "<Figure size 432x288 with 1 Axes>"
      ]
     },
     "metadata": {
      "needs_background": "light"
     },
     "output_type": "display_data"
    }
   ],
   "source": [
    "import matplotlib.pyplot as plt\n",
    "plt.imshow(x_train[50])\n",
    "print('라벨: ', y_train[50])"
   ]
  },
  {
   "cell_type": "markdown",
   "metadata": {
    "id": "C3jaP-fIfwqF"
   },
   "source": [
    "\n",
    "\n",
    "---\n",
    "# **2. 모델**\n",
    "---\n",
    "\n",
    "\n"
   ]
  },
  {
   "cell_type": "code",
   "execution_count": 40,
   "metadata": {
    "id": "xHE4NDLW6vry"
   },
   "outputs": [
    {
     "name": "stdout",
     "output_type": "stream",
     "text": [
      "Model에 추가된 Layer 개수:  7\n"
     ]
    }
   ],
   "source": [
    "model=keras.models.Sequential()\n",
    "model.add(keras.layers.Conv2D(16, (3,3), activation='relu', input_shape=(28,28,3)))\n",
    "model.add(keras.layers.MaxPool2D(2,2))\n",
    "model.add(keras.layers.Conv2D(32, (3,3), activation='relu'))\n",
    "model.add(keras.layers.MaxPooling2D((2,2)))\n",
    "model.add(keras.layers.Flatten())\n",
    "model.add(keras.layers.Dense(32, activation='relu'))\n",
    "model.add(keras.layers.Dense(10, activation='softmax'))\n",
    "\n",
    "print('Model에 추가된 Layer 개수: ', len(model.layers))"
   ]
  },
  {
   "cell_type": "code",
   "execution_count": 39,
   "metadata": {
    "id": "TM3aNd9s9sb6"
   },
   "outputs": [
    {
     "name": "stdout",
     "output_type": "stream",
     "text": [
      "Model: \"sequential\"\n",
      "_________________________________________________________________\n",
      "Layer (type)                 Output Shape              Param #   \n",
      "=================================================================\n",
      "conv2d (Conv2D)              (None, 26, 26, 16)        160       \n",
      "_________________________________________________________________\n",
      "max_pooling2d (MaxPooling2D) (None, 13, 13, 16)        0         \n",
      "_________________________________________________________________\n",
      "conv2d_1 (Conv2D)            (None, 11, 11, 32)        4640      \n",
      "_________________________________________________________________\n",
      "max_pooling2d_1 (MaxPooling2 (None, 5, 5, 32)          0         \n",
      "_________________________________________________________________\n",
      "flatten (Flatten)            (None, 800)               0         \n",
      "_________________________________________________________________\n",
      "dense (Dense)                (None, 32)                25632     \n",
      "_________________________________________________________________\n",
      "dense_1 (Dense)              (None, 10)                330       \n",
      "=================================================================\n",
      "Total params: 30,762\n",
      "Trainable params: 30,762\n",
      "Non-trainable params: 0\n",
      "_________________________________________________________________\n"
     ]
    }
   ],
   "source": [
    "model.summary()"
   ]
  },
  {
   "cell_type": "markdown",
   "metadata": {
    "id": "saEls7OAgQHS"
   },
   "source": [
    "---\n",
    "# 3.  Compile\n",
    "\n",
    "\n",
    "---\n",
    "\n"
   ]
  },
  {
   "cell_type": "code",
   "execution_count": 41,
   "metadata": {
    "id": "iPlyiLyM96dO"
   },
   "outputs": [
    {
     "name": "stdout",
     "output_type": "stream",
     "text": [
      "Epoch 1/10\n",
      "73/73 [==============================] - 4s 51ms/step - loss: 1.2187 - accuracy: 0.3242\n",
      "Epoch 2/10\n",
      "73/73 [==============================] - 0s 2ms/step - loss: 1.0703 - accuracy: 0.4355\n",
      "Epoch 3/10\n",
      "73/73 [==============================] - 0s 2ms/step - loss: 1.0233 - accuracy: 0.4922\n",
      "Epoch 4/10\n",
      "73/73 [==============================] - 0s 2ms/step - loss: 0.9400 - accuracy: 0.5732\n",
      "Epoch 5/10\n",
      "73/73 [==============================] - 0s 2ms/step - loss: 0.8356 - accuracy: 0.6411\n",
      "Epoch 6/10\n",
      "73/73 [==============================] - 0s 2ms/step - loss: 0.7458 - accuracy: 0.6797\n",
      "Epoch 7/10\n",
      "73/73 [==============================] - 0s 2ms/step - loss: 0.6602 - accuracy: 0.7364\n",
      "Epoch 8/10\n",
      "73/73 [==============================] - 0s 3ms/step - loss: 0.6021 - accuracy: 0.7615\n",
      "Epoch 9/10\n",
      "73/73 [==============================] - 0s 2ms/step - loss: 0.5507 - accuracy: 0.7801\n",
      "Epoch 10/10\n",
      "73/73 [==============================] - 0s 2ms/step - loss: 0.5043 - accuracy: 0.8056\n"
     ]
    },
    {
     "data": {
      "text/plain": [
       "<tensorflow.python.keras.callbacks.History at 0x7fcf64deb2d0>"
      ]
     },
     "execution_count": 41,
     "metadata": {},
     "output_type": "execute_result"
    }
   ],
   "source": [
    "model.compile(optimizer='adam',\n",
    "             loss='sparse_categorical_crossentropy',\n",
    "             metrics=['accuracy'])\n",
    "\n",
    "model.fit(x_train, y_train, epochs=10)"
   ]
  },
  {
   "cell_type": "code",
   "execution_count": 43,
   "metadata": {
    "id": "Svde586A9_CG"
   },
   "outputs": [
    {
     "name": "stdout",
     "output_type": "stream",
     "text": [
      "31/31 - 2s - loss: 0.5386 - accuracy: 0.8081\n",
      "test_loss: 0.5386146903038025 \n",
      "test_accuracy: 0.808080792427063\n"
     ]
    }
   ],
   "source": [
    "test_loss, test_accuracy = model.evaluate(x_test,y_test, verbose=2)\n",
    "print(\"test_loss: {} \".format(test_loss))\n",
    "print(\"test_accuracy: {}\".format(test_accuracy))"
   ]
  },
  {
   "cell_type": "markdown",
   "metadata": {
    "id": "jofRg1B2gvpJ"
   },
   "source": [
    "---\n",
    "# 4. Result\n",
    "---"
   ]
  },
  {
   "cell_type": "code",
   "execution_count": 47,
   "metadata": {
    "id": "1RbkBb97-Dmj"
   },
   "outputs": [
    {
     "name": "stdout",
     "output_type": "stream",
     "text": [
      "model.predict() 결과 :  [3.2300740e-03 2.3038859e-02 9.7373009e-01 1.7091708e-08 9.6213824e-08\n",
      " 3.8918837e-09 3.8731727e-08 6.8461668e-07 1.3212235e-08 1.5208663e-07]\n",
      "model이 추론한 가장 가능성이 높은 결과 :  2\n",
      "실제 데이터의 라벨 :  2\n"
     ]
    }
   ],
   "source": [
    "predicted_result = model.predict(x_test)  # model이 추론한 확률값. \n",
    "predicted_labels = np.argmax(predicted_result, axis=1)\n",
    "\n",
    "idx=800  #1번째 x_test를 살펴보자. \n",
    "print('model.predict() 결과 : ', predicted_result[idx])\n",
    "print('model이 추론한 가장 가능성이 높은 결과 : ', predicted_labels[idx])\n",
    "print('실제 데이터의 라벨 : ', y_test[idx])"
   ]
  },
  {
   "cell_type": "markdown",
   "metadata": {
    "id": "CUEjdFjCioq4"
   },
   "source": [
    "\n",
    "\n",
    "---\n",
    "# 5. 회고\n",
    "---"
   ]
  },
  {
   "cell_type": "markdown",
   "metadata": {
    "id": "Pfq5f7TEivCT"
   },
   "source": [
    "이번 프로젝트에서 어려웠던 점,\n",
    "\n",
    "프로젝트를 진행하면서 알아낸 점 혹은 아직 모호한 점.\n",
    "\n",
    "루브릭 평가 지표를 맞추기 위해 시도한 것들.\n",
    "\n",
    "만약에 루브릭 평가 관련 지표를 달성 하지 못했을 때, 이유에 관한 추정.\n",
    "\n",
    "자기 다짐\n",
    "\n",
    "---\n",
    "처음엔 데이터 300개로만 해야해서 너무 표본이 작은 것이 아닌가 싶었고, 랜덤으로 섞어서 하고 싶었는데 이걸 어떻게 했었나 잊어서 당황했다. 그러나 다음 수업차시를 진행하면서 다시 감을 잡았고 300개가 아닌 최대한의 데이터로 모델을 돌리고 랜덤으로 데이터를 섞는 train_test_split을 다시 상기하며 모델을 짜니 훨씬 수월했다. 덕분에 accuracy도 80프로를 넘겼다.처음엔 굉장히 막막했는데 하다보니 별거 아니란 생각도 들었고 차근차근 하나씩 뽀개가는 기분으로 하다보면 될거란 자신감도 얻었다. "
   ]
  }
 ],
 "metadata": {
  "colab": {
   "name": "rock_scissor_paper.ipynb",
   "provenance": []
  },
  "kernelspec": {
   "display_name": "Python 3",
   "language": "python",
   "name": "python3"
  },
  "language_info": {
   "codemirror_mode": {
    "name": "ipython",
    "version": 3
   },
   "file_extension": ".py",
   "mimetype": "text/x-python",
   "name": "python",
   "nbconvert_exporter": "python",
   "pygments_lexer": "ipython3",
   "version": "3.7.9"
  }
 },
 "nbformat": 4,
 "nbformat_minor": 1
}
